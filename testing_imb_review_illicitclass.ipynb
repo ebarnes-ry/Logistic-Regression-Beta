{
 "cells": [
  {
   "cell_type": "code",
   "execution_count": 1,
   "id": "0a6193cf-5a2e-4e13-80bc-4f8eda229dc4",
   "metadata": {},
   "outputs": [],
   "source": [
    "import nltk\n",
    "from os import getcwd\n",
    "\n",
    "filepath = f\"{getcwd()}/../tmp2/\"\n",
    "nltk.data.path.append(filepath)\n",
    "\n",
    "import numpy as np\n",
    "import pandas as pd\n",
    "import re\n",
    "import string\n",
    "\n",
    "from nltk.stem import PorterStemmer\n",
    "from nltk.corpus import stopwords\n",
    "\n",
    "from nltk.tokenize import TweetTokenizer #keep tweet tokenizer for now since good for general \"casual\" reviews\n"
   ]
  },
  {
   "cell_type": "code",
   "execution_count": 2,
   "id": "5f94d29e-86f6-4d56-b63c-f72660cc5679",
   "metadata": {},
   "outputs": [
    {
     "name": "stderr",
     "output_type": "stream",
     "text": [
      "[nltk_data] Downloading package stopwords to\n",
      "[nltk_data]     /Users/emmabarnes/nltk_data...\n",
      "[nltk_data]   Package stopwords is already up-to-date!\n"
     ]
    },
    {
     "data": {
      "text/plain": [
       "True"
      ]
     },
     "execution_count": 2,
     "metadata": {},
     "output_type": "execute_result"
    }
   ],
   "source": [
    "nltk.download('stopwords')"
   ]
  },
  {
   "cell_type": "code",
   "execution_count": 27,
   "id": "a3d96d39-4132-43da-973b-b192d05fb233",
   "metadata": {
    "tags": []
   },
   "outputs": [],
   "source": [
    "#data data\n",
    "illicit_reviews_input = '/Users/emmabarnes/Documents/data for testing/illicit_reviews.xlsx'\n",
    "nonillicit_reviews_input = '/Users/emmabarnes/Documents/data for testing/nonillicit_reviews.xlsx'\n",
    "\n",
    "df1 = pd.read_excel(illicit_reviews_input)\n",
    "df2 = pd.read_excel(nonillicit_reviews_input)\n",
    "\n",
    "illicit_reviews = df1['REVIEW'].tolist()\n",
    "nonillicit_reviews = df2['REVIEW'].tolist()"
   ]
  },
  {
   "cell_type": "code",
   "execution_count": 28,
   "id": "02cf050b-4fd8-421c-accf-28a5d55af080",
   "metadata": {},
   "outputs": [
    {
     "name": "stdout",
     "output_type": "stream",
     "text": [
      "1000\n"
     ]
    }
   ],
   "source": [
    "print(len(nonillicit_reviews))"
   ]
  },
  {
   "cell_type": "code",
   "execution_count": 29,
   "id": "ebc0c4bb-407e-4e5c-8bd5-2317917207c7",
   "metadata": {},
   "outputs": [],
   "source": [
    "test_illicit = illicit_reviews[:200]\n",
    "train_illicit = illicit_reviews[200:]\n",
    "test_nonillicit = nonillicit_reviews[:200]\n",
    "train_nonillicit = nonillicit_reviews[200:]\n",
    "\n",
    "train_x = train_illicit + train_nonillicit\n",
    "test_x = test_illicit + test_nonillicit"
   ]
  },
  {
   "cell_type": "code",
   "execution_count": 30,
   "id": "e8362138-2be2-4e5d-b051-7f34c3423491",
   "metadata": {},
   "outputs": [],
   "source": [
    "train_y = np.append(np.ones((len(train_illicit), 1)), np.zeros((len(train_nonillicit), 1)), axis = 0)\n",
    "test_y = np.append(np.ones((len(test_illicit), 1)), np.zeros((len(test_nonillicit), 1)), axis = 0)"
   ]
  },
  {
   "cell_type": "code",
   "execution_count": 31,
   "id": "5cceda25-ef0b-4f62-9781-6f274c36d198",
   "metadata": {},
   "outputs": [
    {
     "name": "stdout",
     "output_type": "stream",
     "text": [
      "train_y.shape = (1600, 1)\n",
      "test_y.shape = (400, 1)\n"
     ]
    }
   ],
   "source": [
    "print(\"train_y.shape = \" + str(train_y.shape))\n",
    "print(\"test_y.shape = \" + str(test_y.shape))"
   ]
  },
  {
   "cell_type": "code",
   "execution_count": 14,
   "id": "98d0d944-aa21-40b4-9afb-025017623a9e",
   "metadata": {},
   "outputs": [
    {
     "data": {
      "text/plain": [
       "dict"
      ]
     },
     "execution_count": 14,
     "metadata": {},
     "output_type": "execute_result"
    }
   ],
   "source": []
  },
  {
   "cell_type": "code",
   "execution_count": 3,
   "id": "0c706a3c-d520-48b2-a1a1-cdaa1b20880f",
   "metadata": {},
   "outputs": [],
   "source": [
    "def process_tweet(tweet):\n",
    "    stemmer = PorterStemmer()\n",
    "    stopwords_english = stopwords.words('english')\n",
    "    # remove stock market tickers like $GE\n",
    "    tweet = re.sub(r'\\$\\w*', '', tweet)\n",
    "    # remove old style retweet text \"RT\"\n",
    "    tweet = re.sub(r'^RT[\\s]+', '', tweet)\n",
    "    # remove hyperlinks\n",
    "    tweet = re.sub(r'https?:\\/\\/.*[\\r\\n]*', '', tweet)\n",
    "    # remove hashtags\n",
    "    # only removing the hash # sign from the word\n",
    "    tweet = re.sub(r'#', '', tweet)\n",
    "    # tokenize tweets\n",
    "    tokenizer = TweetTokenizer(preserve_case=False, strip_handles=True, reduce_len=True)\n",
    "    tweet_tokens = tokenizer.tokenize(tweet)\n",
    "\n",
    "    tweets_clean = []\n",
    "    for word in tweet_tokens:\n",
    "        if (word not in stopwords_english and word not in string.punctuation): \n",
    "        # tweets_clean.append(word)\n",
    "            stem_word = stemmer.stem(word)  # stemming word\n",
    "            tweets_clean.append(stem_word)\n",
    "    return tweets_clean"
   ]
  },
  {
   "cell_type": "code",
   "execution_count": 4,
   "id": "c103655c-e367-4f69-85fc-116c57ad7c91",
   "metadata": {},
   "outputs": [],
   "source": [
    "def build_freqs(tweets, ys):\n",
    "    # Convert np array to list since zip needs an iterable.\n",
    "    # The squeeze is necessary or the list ends up with one element.\n",
    "    # Also note that this is just a NOP if ys is already a list.\n",
    "    yslist = np.squeeze(ys).tolist()\n",
    "\n",
    "    # Start with an empty dictionary and populate it by looping over all tweets\n",
    "    # and over all processed words in each tweet.\n",
    "    freqs = {}\n",
    "    for y, tweet in zip(yslist, tweets):\n",
    "        for word in process_tweet(tweet):\n",
    "            pair = (word, y)\n",
    "            if pair in freqs:\n",
    "                freqs[pair] += 1\n",
    "            else:\n",
    "                freqs[pair] = 1\n",
    "\n",
    "    return freqs"
   ]
  },
  {
   "cell_type": "code",
   "execution_count": 32,
   "id": "f66bedc8-b27b-40db-a459-beff6eb5cacb",
   "metadata": {},
   "outputs": [],
   "source": [
    "freqs = build_freqs(train_x, train_y)"
   ]
  },
  {
   "cell_type": "code",
   "execution_count": 35,
   "id": "1a371d67-9d84-441a-8dd3-2fe25fe827f5",
   "metadata": {},
   "outputs": [
    {
     "name": "stdout",
     "output_type": "stream",
     "text": [
      "<class 'dict'>\n",
      "9077\n"
     ]
    }
   ],
   "source": [
    "print(str(type(freqs)))\n",
    "print(len(freqs.keys()))"
   ]
  },
  {
   "cell_type": "code",
   "execution_count": 36,
   "id": "cd21287e-dde2-423a-8103-5811b13b72fe",
   "metadata": {},
   "outputs": [
    {
     "name": "stdout",
     "output_type": "stream",
     "text": [
      "I haven’t seen her here before. She looked good, really young petite body, amazing tits, and just a radiant positive attitude. Her face is really cute too, and she’s down to fuck which is exactly what I wanted. \n",
      "\n",
      "When she was working the massage I could feel she had some experience. Her hands felt good as she was taking care of those sore areas. When she flipped me she saw I was getting a boner and started playing around with my cock while giving me tongue kisses. I asked her for the pussy and we got to talking. \n",
      "\n",
      "She took off her little white dress and started with a BBBJ. She went in deep and slobbered all over my pole. Good suction, and great hand coordination. Moved her into 69, and licked on her pussy until we were both ready to fuck. \n",
      "\n",
      "I got the rubber on and she got on top, squatted down, and inserted my cock in her tight pussy. I loved fucking her, and making out with her as she rode me Cowgirl like a girlfriend. Pushed her up to admire her bare chest while she just grinded away. She wanted doggy after that, so I got her on her knees and fucked her from behind till I blew my load in the bag. It was a great time for sure. I left her the well deserved tip, and I was outta there feeling satisfied.\n"
     ]
    }
   ],
   "source": [
    "print(train_x[0])"
   ]
  },
  {
   "cell_type": "code",
   "execution_count": 37,
   "id": "7a59a59e-a9ff-491f-963e-b6776bf4291b",
   "metadata": {},
   "outputs": [
    {
     "name": "stdout",
     "output_type": "stream",
     "text": [
      "['’', 'seen', 'look', 'good', 'realli', 'young', 'petit', 'bodi', 'amaz', 'tit', 'radiant', 'posit', 'attitud', 'face', 'realli', 'cute', '’', 'fuck', 'exactli', 'want', 'work', 'massag', 'could', 'feel', 'experi', 'hand', 'felt', 'good', 'take', 'care', 'sore', 'area', 'flip', 'saw', 'get', 'boner', 'start', 'play', 'around', 'cock', 'give', 'tongu', 'kiss', 'ask', 'pussi', 'got', 'talk', 'took', 'littl', 'white', 'dress', 'start', 'bbbj', 'went', 'deep', 'slobber', 'pole', 'good', 'suction', 'great', 'hand', 'coordin', 'move', '69', 'lick', 'pussi', 'readi', 'fuck', 'got', 'rubber', 'got', 'top', 'squat', 'insert', 'cock', 'tight', 'pussi', 'love', 'fuck', 'make', 'rode', 'cowgirl', 'like', 'girlfriend', 'push', 'admir', 'bare', 'chest', 'grind', 'away', 'want', 'doggi', 'got', 'knee', 'fuck', 'behind', 'till', 'blew', 'load', 'bag', 'great', 'time', 'sure', 'left', 'well', 'deserv', 'tip', 'outta', 'feel', 'satisfi']\n"
     ]
    }
   ],
   "source": [
    "print(process_tweet(train_x[0]))"
   ]
  },
  {
   "cell_type": "code",
   "execution_count": 38,
   "id": "aeb52b6a-fc42-4399-803e-651be022d684",
   "metadata": {},
   "outputs": [],
   "source": [
    "def sigmoid(z):\n",
    "    h = 1/(1+np.exp(-z))\n",
    "    return h"
   ]
  },
  {
   "cell_type": "code",
   "execution_count": 39,
   "id": "c36bc321-db25-4852-8ef4-b14a8b4a35a1",
   "metadata": {},
   "outputs": [],
   "source": [
    "def gradient (x, y, theta, alpha, num_iters):\n",
    "    m = len(y)\n",
    "    for i in range(0, num_iters):\n",
    "        z = np.dot(x, theta)\n",
    "        h = sigmoid(z)\n",
    "        J = (-1/m)*np.sum(y*np.log(h)+(1-y)*np.log(1-h))\n",
    "        theta = theta-(alpha/m)*np.dot(x.T, (h-y))\n",
    "    J = float(J)\n",
    "    return J, theta"
   ]
  },
  {
   "cell_type": "code",
   "execution_count": 40,
   "id": "c8d7a925-413f-466b-9401-195be51777ad",
   "metadata": {},
   "outputs": [
    {
     "name": "stdout",
     "output_type": "stream",
     "text": [
      "cost0.6709497038162117\n",
      "weight vector [4.1e-07, 0.00035658, 7.309e-05]\n"
     ]
    }
   ],
   "source": [
    "#check\n",
    "np.random.seed(1)\n",
    "#X input is 10 by 3 dim with 1s for biases\n",
    "tmp_X = np.append(np.ones((10,1)), np.random.rand(10,2)*2000, axis=1)\n",
    "#Y labels are 10 by 1\n",
    "tmp_Y = (np.random.rand(10,1)>0.35).astype(float)\n",
    "\n",
    "#with gradient\n",
    "tmp_J, tmp_theta = gradient(tmp_X, tmp_Y, np.zeros((3,1)), 1e-8, 700)\n",
    "print(\"cost\" + str(tmp_J))\n",
    "print(\"weight vector \" + str([round(t, 8) for t in np.squeeze(tmp_theta)]))"
   ]
  },
  {
   "cell_type": "code",
   "execution_count": 41,
   "id": "6bc61a68-aa70-46bc-b265-b107fa9ddeab",
   "metadata": {},
   "outputs": [],
   "source": [
    "def extractFeatures(tweet, freqs, process_tweet=process_tweet):\n",
    "    word_l = process_tweet(tweet)\n",
    "    x = np.zeros(3)\n",
    "    x[0] = 1\n",
    "    \n",
    "    for word in word_l:\n",
    "        x[1] += freqs.get((word, 1), 0) #positive label\n",
    "        x[2] += freqs.get((word, 0), 0) #neg label\n",
    "    x = x[None, :]\n",
    "    assert(x.shape == (1,3))\n",
    "    return x"
   ]
  },
  {
   "cell_type": "code",
   "execution_count": 42,
   "id": "9e0f3125-8399-41a5-b1ab-5f6fc92466da",
   "metadata": {},
   "outputs": [
    {
     "name": "stdout",
     "output_type": "stream",
     "text": [
      "[[1.0000e+00 2.6382e+04 1.7974e+04]]\n"
     ]
    }
   ],
   "source": [
    "#first test on training data\n",
    "tmp1 = extractFeatures(train_x[0], freqs)\n",
    "print(tmp1)"
   ]
  },
  {
   "cell_type": "code",
   "execution_count": 43,
   "id": "fe69c368-1482-40f1-91bf-45d93e8b358a",
   "metadata": {},
   "outputs": [
    {
     "name": "stdout",
     "output_type": "stream",
     "text": [
      "cost of training0.5909053105765716\n",
      "vector weights[-5e-08, 0.0002452, -0.00028874]\n"
     ]
    }
   ],
   "source": [
    "X = np.zeros((len(train_x), 3)) #collects features x and stacks to matrix X\n",
    "\n",
    "for i in range(len(train_x)):\n",
    "    X[i, :]= extractFeatures(train_x[i], freqs)\n",
    "    \n",
    "Y = train_y #training labels for X\n",
    "\n",
    "#apply gradient\n",
    "J, theta = gradient(X, Y, np.zeros((3, 1)), 1e-9, 1500)\n",
    "\n",
    "print(\"cost of training\" + str(J))\n",
    "print(\"vector weights\" + str([round(t, 8) for t in np.squeeze(theta)]))"
   ]
  },
  {
   "cell_type": "code",
   "execution_count": 44,
   "id": "7bf8d84b-3f5f-443f-9d2e-6c33abe55303",
   "metadata": {},
   "outputs": [],
   "source": [
    "def predict(tweet, freqs, theta):\n",
    "    x = extractFeatures(tweet, freqs)\n",
    "    y_pred = sigmoid(np.dot(x, theta))\n",
    "    \n",
    "    return y_pred"
   ]
  },
  {
   "cell_type": "code",
   "execution_count": 55,
   "id": "cfc896a7-96e7-4415-8d22-0054d86e1fb5",
   "metadata": {},
   "outputs": [
    {
     "name": "stdout",
     "output_type": "stream",
     "text": [
      "I got a hj === [[0.51181341]]\n",
      "i got fs === [[0.51204864]]\n",
      "i did not get fs === [[0.50615208]]\n",
      "i got a handjob === [[0.50869168]]\n",
      "I did not get a handjob === [[0.50279395]]\n",
      "this sucks but i got a BBJ === [[0.52069349]]\n",
      "this is great and i got an HJ === [[0.51916714]]\n",
      "fuck === [[0.51050219]]\n",
      "hj hj hj === [[0.50989552]]\n",
      "legit, no luck here === [[0.49177732]]\n",
      "no hj here === [[0.50329888]]\n"
     ]
    }
   ],
   "source": [
    "#testing output\n",
    "for tweet in ['I got a hj','i got fs', 'i did not get fs','i got a handjob','I did not get a handjob', 'this sucks but i got a BBJ', 'this is great and i got an HJ', 'fuck', 'hj hj hj', 'legit, no luck here', 'no hj here']:\n",
    "    print(str(tweet) + \" === \" + str(predict(tweet, freqs, theta)))"
   ]
  },
  {
   "cell_type": "code",
   "execution_count": 56,
   "id": "0c188713-5952-44b8-931e-ff2aef30003d",
   "metadata": {},
   "outputs": [],
   "source": [
    "def testAccuracy (test_x, test_y, freqs, theta, predict=predict):\n",
    "    y_hat = []\n",
    "    for tweet in test_x:\n",
    "        y_pred = predict(tweet, freqs, theta)\n",
    "        \n",
    "        if y_pred > 0.5: #good prediction\n",
    "            y_hat.append(1.0)\n",
    "        else:\n",
    "            y_hat.append(0.0)\n",
    "            \n",
    "    accuracy = np.sum(y_hat==test_y.squeeze())/len(test_x)#merge into a 1d array with == to compare\n",
    "    \n",
    "    return accuracy"
   ]
  },
  {
   "cell_type": "code",
   "execution_count": 57,
   "id": "6b88d43a-f98e-4bf9-91eb-ce8e52a67238",
   "metadata": {},
   "outputs": [
    {
     "name": "stdout",
     "output_type": "stream",
     "text": [
      "accuracy: 0.7425\n"
     ]
    }
   ],
   "source": [
    "tmp_accuracy = testAccuracy(test_x, test_y, freqs, theta)\n",
    "print(\"accuracy: \" + str(tmp_accuracy))"
   ]
  },
  {
   "cell_type": "code",
   "execution_count": null,
   "id": "9e5ffaf2-3e62-4d11-8da2-7bcb2659583f",
   "metadata": {},
   "outputs": [],
   "source": []
  },
  {
   "cell_type": "raw",
   "id": "6e92213e-0cc7-432c-842b-e51c8de600d4",
   "metadata": {},
   "source": [
    "test = 'Decided to give this place a try and Angela greeted me. She did a ton of teasing during the massage and on the flip asked what I wanted. I told her a hand job and she agreed. She stripped and I saw some nice tits, they felt good to the touch. She made out with me, climbed on the table and let me see her pussy and I had to have a taste, fingered her a bit. She was very responsive and was grinding her pussy into my face and moaning as she came. That put me over the top as well.'\n",
    "print(process_tweet(test))\n",
    "y_hat = predict(test, freqs, theta)\n",
    "print(y_hat)\n",
    "if y_hat>0.5:\n",
    "    print(\"ILLICIT\")\n",
    "else:\n",
    "    print(\"NON ILLICIT\")"
   ]
  },
  {
   "cell_type": "code",
   "execution_count": 66,
   "id": "f1b1cac2-f8a0-41fa-98b9-488cc4f766cd",
   "metadata": {
    "tags": []
   },
   "outputs": [
    {
     "name": "stdout",
     "output_type": "stream",
     "text": [
      "pred review======\n",
      "the review is:  I went shopping and after the shopping was done I saw this place driving by and wanted to check it out. Walked in and was greeted by the MMS, and she sent me to a room Sunny was cute.\n",
      "\n",
      "The massage was well handled she did a good job on my lower back and my arms were killing me and she worked them out too.\n",
      "\n",
      "when we came to the flip. She hadn't given any signs of a HJ so I just signaled, and she said no, but you can do it. WHAT? I didn't come here to jerk off to a full-clothed woman. I played it cool though and acted like it was nothing. 2 minutes later, she was like OK, and she began to stroke my cock and it was really good, I guess she needed the cash so she really did a number on my johnson and I finished all over her hands, it was nice.\n",
      "te processed review is:  ['went', 'shop', 'shop', 'done', 'saw', 'place', 'drive', 'want', 'check', 'walk', 'greet', 'mm', 'sent', 'room', 'sunni', 'cute', 'massag', 'well', 'handl', 'good', 'job', 'lower', 'back', 'arm', 'kill', 'work', 'came', 'flip', 'given', 'sign', 'hj', 'signal', 'said', 'come', 'jerk', 'full-cloth', 'woman', 'play', 'cool', 'though', 'act', 'like', 'noth', '2', 'minut', 'later', 'like', 'ok', 'began', 'stroke', 'cock', 'realli', 'good', 'guess', 'need', 'cash', 'realli', 'number', 'johnson', 'finish', 'hand', 'nice']\n",
      "0\t0.50541945\tb'went shop shop done saw place drive want check walk greet mm sent room sunni cute massag well handl good job lower back arm kill work came flip given sign hj signal said come jerk full-cloth woman play cool though act like noth 2 minut later like ok began stroke cock realli good guess need cash realli number johnson finish hand nice'\n",
      "the review is:  Decided to give this place a try and Angela greeted me. Her English was good enough to communicate. She did a ton of teasing during the massage and on the flip asked what I wanted. I told her a hand job and she agreed. She stripped and I saw some nice tits, they felt good to the touch. She made out with me, climbed on the table and let me see her pussy and I had to have a taste, fingered her a bit. She was very responsive and was grinding her pussy into my face and moaning as she came. That put me over the top as well.\n",
      "\n",
      " Some one reviewed and said no FS, but I'm wondering if a BJ is on the menu. She's a real sweetheart. Will repeat\n",
      "te processed review is:  ['decid', 'give', 'place', 'tri', 'angela', 'greet', 'english', 'good', 'enough', 'commun', 'ton', 'teas', 'massag', 'flip', 'ask', 'want', 'told', 'hand', 'job', 'agre', 'strip', 'saw', 'nice', 'tit', 'felt', 'good', 'touch', 'made', 'climb', 'tabl', 'let', 'see', 'pussi', 'tast', 'finger', 'bit', 'respons', 'grind', 'pussi', 'face', 'moan', 'came', 'put', 'top', 'well', 'one', 'review', 'said', 'fs', \"i'm\", 'wonder', 'bj', 'menu', 'real', 'sweetheart', 'repeat']\n",
      "0\t0.53722221\tb\"decid give place tri angela greet english good enough commun ton teas massag flip ask want told hand job agre strip saw nice tit felt good touch made climb tabl let see pussi tast finger bit respons grind pussi face moan came put top well one review said fs i'm wonder bj menu real sweetheart repeat\"\n",
      "the review is:  She got started immediately. The back and legs, tried to work out the kinks, and it was working, but it was also quite painful sometimes. I  flipped, and I received no teasing or relaxation. I motioned for a HJ, but she shook her head and said that they don't do those things, I tried convincing her with more paper, but she was not bulging, so I stopped pushing and let her finish her rub. Left early, around 45 minutes. Meh, very boring and standard.\n",
      "te processed review is:  ['got', 'start', 'immedi', 'back', 'leg', 'tri', 'work', 'kink', 'work', 'also', 'quit', 'pain', 'sometim', 'flip', 'receiv', 'teas', 'relax', 'motion', 'hj', 'shook', 'head', 'said', 'thing', 'tri', 'convinc', 'paper', 'bulg', 'stop', 'push', 'let', 'finish', 'rub', 'left', 'earli', 'around', '45', 'minut', 'meh', 'bore', 'standard']\n",
      "0\t0.53090074\tb'got start immedi back leg tri work kink work also quit pain sometim flip receiv teas relax motion hj shook head said thing tri convinc paper bulg stop push let finish rub left earli around 45 minut meh bore standard'\n",
      "the review is:  Arrived at location, led to the room. Met Coco. Handed her the standard fee and she got started with the massage. Massage was actually pretty good and lasted at least 10-15 minutes. On the flip she stripped her dress off allowing me to see and access the assets. Very pleased. Started off with the standard mouth application and got on top. She wanted me to rub the girls to which I did, I also got to rub her ass and play with that trimmed pussy. We went at it in CG for a good 10 minuets before she suggested doggy and I finished in the bag.\n",
      "\n",
      "Overall great repeatable experience. She got me what I wanted and she earned a good tip so we were both very happy. I will repeat for sure.\n",
      "te processed review is:  ['arriv', 'locat', 'led', 'room', 'met', 'coco', 'hand', 'standard', 'fee', 'got', 'start', 'massag', 'massag', 'actual', 'pretti', 'good', 'last', 'least', '10-15', 'minut', 'flip', 'strip', 'dress', 'allow', 'see', 'access', 'asset', 'pleas', 'start', 'standard', 'mouth', 'applic', 'got', 'top', 'want', 'rub', 'girl', 'also', 'got', 'rub', 'ass', 'play', 'trim', 'pussi', 'went', 'cg', 'good', '10', 'minuet', 'suggest', 'doggi', 'finish', 'bag', 'overal', 'great', 'repeat', 'experi', 'got', 'want', 'earn', 'good', 'tip', 'happi', 'repeat', 'sure']\n",
      "0\t0.62048474\tb'arriv locat led room met coco hand standard fee got start massag massag actual pretti good last least 10-15 minut flip strip dress allow see access asset pleas start standard mouth applic got top want rub girl also got rub ass play trim pussi went cg good 10 minuet suggest doggi finish bag overal great repeat experi got want earn good tip happi repeat sure'\n",
      "the review is:  Girl walked in, named Coco. Just asked what I wanted and I said everything. She left, came back. 10 minute medium massage. Competent and pleasant. Very good for a FS parlor. Told me to turn over. Stripped and climbed on. Total horndog. CBJ was without a doubt one of the best I've had. She kept sucking very fast and looking straight in my eye as she took that cock down.\n",
      "\n",
      "I sat her down and played with her kitty to get her lubed up. Her pussy was wet and very nice to admire. I shoved that cock and banged her til i came like a 19 yr old fucking for the first time. It was worth every penny and I didn't break the bank.\n",
      "\n",
      "Coco was very pleasant and good looking.\n",
      "te processed review is:  ['girl', 'walk', 'name', 'coco', 'ask', 'want', 'said', 'everyth', 'left', 'came', 'back', '10', 'minut', 'medium', 'massag', 'compet', 'pleasant', 'good', 'fs', 'parlor', 'told', 'turn', 'strip', 'climb', 'total', 'horndog', 'cbj', 'without', 'doubt', 'one', 'best', \"i'v\", 'kept', 'suck', 'fast', 'look', 'straight', 'eye', 'took', 'cock', 'sat', 'play', 'kitti', 'get', 'lube', 'pussi', 'wet', 'nice', 'admir', 'shove', 'cock', 'bang', 'til', 'came', 'like', '19', 'yr', 'old', 'fuck', 'first', 'time', 'worth', 'everi', 'penni', 'break', 'bank', 'coco', 'pleasant', 'good', 'look']\n",
      "0\t0.58454899\tb\"girl walk name coco ask want said everyth left came back 10 minut medium massag compet pleasant good fs parlor told turn strip climb total horndog cbj without doubt one best i'v kept suck fast look straight eye took cock sat play kitti get lube pussi wet nice admir shove cock bang til came like 19 yr old fuck first time worth everi penni break bank coco pleasant good look\"\n",
      "the review is:  Arrived and hit the buzzer was about a 4 to 5 min wait. Cute little lady answered the door she was in a little sailor outfit. Was rushed in and only offered 50$ massage I said ok. First 15 min was all back walking. She then proceeded to only put oil on my inner thighs and did light tickling and teasing on my rear area only.  She asked for flip and 50$ for HJ. I don’t know why but I just couldn’t nut. She let me under her little outfit and let me touch her everywhere. Just couldn’t nut tho after 5 min. So I gave up. Asked for my hot towel and left.\n",
      "te processed review is:  ['arriv', 'hit', 'buzzer', '4', '5', 'min', 'wait', 'cute', 'littl', 'ladi', 'answer', 'door', 'littl', 'sailor', 'outfit', 'rush', 'offer', '50', 'massag', 'said', 'ok', 'first', '15', 'min', 'back', 'walk', 'proceed', 'put', 'oil', 'inner', 'thigh', 'light', 'tickl', 'teas', 'rear', 'area', 'ask', 'flip', '50', 'hj', '’', 'know', '’', 'nut', 'let', 'littl', 'outfit', 'let', 'touch', 'everywher', '’', 'nut', 'tho', '5', 'min', 'gave', 'ask', 'hot', 'towel', 'left']\n",
      "0\t0.51627048\tb'arriv hit buzzer 4 5 min wait cute littl ladi answer door littl sailor outfit rush offer 50 massag said ok first 15 min back walk proceed put oil inner thigh light tickl teas rear area ask flip 50 hj  know  nut let littl outfit let touch everywher  nut tho 5 min gave ask hot towel left'\n",
      "the review is:  Shortly after my arrival, Hannah came out to greet me and take me to the room. She seemed kinda quiet and shy. That only lasted a little bit, cause trust me, she was NOT shy. She rubbed my back and then started playing with my boys. Rubbing and cupping them while I was still on my back. I adjusted so she could get a better angle and continued down there for a while. She had me flip and then asked how much I would tip her. We worked that out and then she started with some ball licking then a pretty good blowjob. I tapped her that I was going to blow but she just kept going so I just grabbed her head and slowed her down so I could have a great pop. Busted in her mouth and she went to spit. She isn’t the prettiest provider but she gives a great BJ.\n",
      "te processed review is:  ['shortli', 'arriv', 'hannah', 'came', 'greet', 'take', 'room', 'seem', 'kinda', 'quiet', 'shi', 'last', 'littl', 'bit', 'caus', 'trust', 'shi', 'rub', 'back', 'start', 'play', 'boy', 'rub', 'cup', 'still', 'back', 'adjust', 'could', 'get', 'better', 'angl', 'continu', 'flip', 'ask', 'much', 'would', 'tip', 'work', 'start', 'ball', 'lick', 'pretti', 'good', 'blowjob', 'tap', 'go', 'blow', 'kept', 'go', 'grab', 'head', 'slow', 'could', 'great', 'pop', 'bust', 'mouth', 'went', 'spit', '’', 'prettiest', 'provid', 'give', 'great', 'bj']\n",
      "0\t0.65948641\tb'shortli arriv hannah came greet take room seem kinda quiet shi last littl bit caus trust shi rub back start play boy rub cup still back adjust could get better angl continu flip ask much would tip work start ball lick pretti good blowjob tap go blow kept go grab head slow could great pop bust mouth went spit  prettiest provid give great bj'\n",
      "the review is:  Just went back to ACE. I saw Yoyo, but English is bad. She is an older lady, but I find myself liking the experienced ones best sometimes. I got undressed and laid on the table face up to show what I wanted right away. She came back in after putting the door fee away and could see I was ready. She wears a black face mask so I can't see what she looks like, but that didn't matter. She played with my balls a little bit, then left again to get supplies. When she came back, she got naked and she slipped on a cover with her mouth but I didn't really see how she did it. After some more ball and taint play she did a little head action. Then she climbed up on the table and started cowgirl, but she seemed to get tired for that. I rolled her off on her back and stood up for standing Mish and I finished in the bag pretty quick. She has a belly, but she knows what she is doing. Short massage, water and I was gone. I like this place.\n",
      "te processed review is:  ['went', 'back', 'ace', 'saw', 'yoyo', 'english', 'bad', 'older', 'ladi', 'find', 'like', 'experienc', 'one', 'best', 'sometim', 'got', 'undress', 'laid', 'tabl', 'face', 'show', 'want', 'right', 'away', 'came', 'back', 'put', 'door', 'fee', 'away', 'could', 'see', 'readi', 'wear', 'black', 'face', 'mask', \"can't\", 'see', 'look', 'like', 'matter', 'play', 'ball', 'littl', 'bit', 'left', 'get', 'suppli', 'came', 'back', 'got', 'nake', 'slip', 'cover', 'mouth', 'realli', 'see', 'ball', 'taint', 'play', 'littl', 'head', 'action', 'climb', 'tabl', 'start', 'cowgirl', 'seem', 'get', 'tire', 'roll', 'back', 'stood', 'stand', 'mish', 'finish', 'bag', 'pretti', 'quick', 'belli', 'know', 'short', 'massag', 'water', 'gone', 'like', 'place']\n",
      "0\t0.65153786\tb\"went back ace saw yoyo english bad older ladi find like experienc one best sometim got undress laid tabl face show want right away came back put door fee away could see readi wear black face mask can't see look like matter play ball littl bit left get suppli came back got nake slip cover mouth realli see ball taint play littl head action climb tabl start cowgirl seem get tire roll back stood stand mish finish bag pretti quick belli know short massag water gone like place\"\n",
      "the review is:  I read through all these reviews again and I’m even more pissed now that I’m back to the hotel. I was looking forward to this all day now I don’t have time to go to another place. What a ridiculous thing to happen. Don’t go here whatever you do, I only went to her because it was close to the hotel by the airport.\n",
      "te processed review is:  ['read', 'review', '’', 'even', 'piss', '’', 'back', 'hotel', 'look', 'forward', 'day', '’', 'time', 'go', 'anoth', 'place', 'ridicul', 'thing', 'happen', '’', 'go', 'whatev', 'went', 'close', 'hotel', 'airport']\n",
      "0\t0.53212528\tb'read review  even piss  back hotel look forward day  time go anoth place ridicul thing happen  go whatev went close hotel airport'\n",
      "the review is:  Came here for the first time and wanted to try something new.  \n",
      "\n",
      "Two girls to choose from.  One was linda and the other was Sara.  Linda is tall thing and pale light skin.  Body is average but sexy.\n",
      "\n",
      "\n",
      "Sara is cute and petite with decent rack.  She was wearing a sexy outfit but i decided to go with tall and sexy.\n",
      "\n",
      "Paid the house $60 then went in and undressed.  Laid on table and waited for her to come in.\n",
      "\n",
      "She came in and started with a massage.  She would tease my balls and butt crack and I knew she would be down.  I always like the tease to see how they would get me.\n",
      "\n",
      "As she was massaging my ass and balls, she then asked what kind of service I want,  I told her FS but she said, No, they dont do that here.  I wanted the cheap option then and got a HJ. Gave her $50.  As she was giving the HJ, i would suck on her tits and play with her ass.  I played with her pussy bare and played with her butthole.  She was nice and enjoyed it.  Very into it! and that's what yearned her the 5 star.  Is her willingness to please.\n",
      "\n",
      "Overall i would come back for a cheap tug andI want to try Sara next time.\n",
      "te processed review is:  ['came', 'first', 'time', 'want', 'tri', 'someth', 'new', 'two', 'girl', 'choos', 'one', 'linda', 'sara', 'linda', 'tall', 'thing', 'pale', 'light', 'skin', 'bodi', 'averag', 'sexi', 'sara', 'cute', 'petit', 'decent', 'rack', 'wear', 'sexi', 'outfit', 'decid', 'go', 'tall', 'sexi', 'paid', 'hous', 'went', 'undress', 'laid', 'tabl', 'wait', 'come', 'came', 'start', 'massag', 'would', 'teas', 'ball', 'butt', 'crack', 'knew', 'would', 'alway', 'like', 'teas', 'see', 'would', 'get', 'massag', 'ass', 'ball', 'ask', 'kind', 'servic', 'want', 'told', 'fs', 'said', 'dont', 'want', 'cheap', 'option', 'got', 'hj', 'gave', 'give', 'hj', 'would', 'suck', 'tit', 'play', 'ass', 'play', 'pussi', 'bare', 'play', 'butthol', 'nice', 'enjoy', \"that'\", 'yearn', '5', 'star', 'willing', 'pleas', 'overal', 'would', 'come', 'back', 'cheap', 'tug', 'andi', 'want', 'tri', 'sara', 'next', 'time']\n",
      "0\t0.61972503\tb\"came first time want tri someth new two girl choos one linda sara linda tall thing pale light skin bodi averag sexi sara cute petit decent rack wear sexi outfit decid go tall sexi paid hous went undress laid tabl wait come came start massag would teas ball butt crack knew would alway like teas see would get massag ass ball ask kind servic want told fs said dont want cheap option got hj gave give hj would suck tit play ass play pussi bare play butthol nice enjoy that' yearn 5 star willing pleas overal would come back cheap tug andi want tri sara next time\"\n",
      "the review is:  Got to location met at the door by Linda. She was a good looking girl, very nice body from head to toe, firm ass, nice tits, cute face, some real eye candy.\n",
      "\n",
      "Gave her the fee for the massage. Went to room and laid out. She came in and started on back. Great technique. Moved to legs. Lil brushing of the boys. Lil giggle to my slight moans of encouragement. On the flip she laid a towel over junior and worked my chest then a off the charts head massage. Linda has skills. Proceeded to my arms and hands then to my feet and legs with some additional brushing until my time expired. I asked “that’s it” no more? You come back tomorrow.\n",
      "\n",
      "I’ll try earlier next visit. But the massage was definitely outstanding.\n",
      "te processed review is:  ['got', 'locat', 'met', 'door', 'linda', 'good', 'look', 'girl', 'nice', 'bodi', 'head', 'toe', 'firm', 'ass', 'nice', 'tit', 'cute', 'face', 'real', 'eye', 'candi', 'gave', 'fee', 'massag', 'went', 'room', 'laid', 'came', 'start', 'back', 'great', 'techniqu', 'move', 'leg', 'lil', 'brush', 'boy', 'lil', 'giggl', 'slight', 'moan', 'encourag', 'flip', 'laid', 'towel', 'junior', 'work', 'chest', 'chart', 'head', 'massag', 'linda', 'skill', 'proceed', 'arm', 'hand', 'feet', 'leg', 'addit', 'brush', 'time', 'expir', 'ask', '“', '’', '”', 'come', 'back', 'tomorrow', '’', 'tri', 'earlier', 'next', 'visit', 'massag', 'definit', 'outstand']\n",
      "0\t0.51389775\tb'got locat met door linda good look girl nice bodi head toe firm ass nice tit cute face real eye candi gave fee massag went room laid came start back great techniqu move leg lil brush boy lil giggl slight moan encourag flip laid towel junior work chest chart head massag linda skill proceed arm hand feet leg addit brush time expir ask    come back tomorrow  tri earlier next visit massag definit outstand'\n",
      "the review is:  Stopped in later in the afternoon and walked in at the same time as another one of you. Met by a lady wearing a face mask who checked my temp and gave me some pops of sanitizer. I think her name is Coco and she looked cute so why not. \n",
      "Once in the room, she gave a very thorough massage while I occasionally reached out to massage her legs and ass to let her know what I was here for. The standard massage was really good and went on so long, I thought I might strike out but finally, she started some very light teasing and eventually had me up on my knees while she was playing with me from behind. She gave me a swat on the ass to tell me to turn over and then proceeded with a very slow HE. She allowed me to release her top from her bra and I had fun playing with her nice hard nipples, then I offered her some more $ for DATY and she obliged. \n",
      "Positioned in 69 and I was enjoying her hairy and wet pussy on my face. Not sure If she was really enjoying it but she was quietly vocal during this and squirmed her body each time my tongue went deeper. After some mins of this, I came, and she stand-up and dressed to help me clean up. \n",
      "\n",
      "I'm not sure if more was available as I was satisfied with what she was doing to me and enjoyed my time. She helped me get dressed and off I went. She asked if I come back and I would if I lived closer. She was a treat.\n",
      "te processed review is:  ['stop', 'later', 'afternoon', 'walk', 'time', 'anoth', 'one', 'met', 'ladi', 'wear', 'face', 'mask', 'check', 'temp', 'gave', 'pop', 'sanit', 'think', 'name', 'coco', 'look', 'cute', 'room', 'gave', 'thorough', 'massag', 'occasion', 'reach', 'massag', 'leg', 'ass', 'let', 'know', 'standard', 'massag', 'realli', 'good', 'went', 'long', 'thought', 'might', 'strike', 'final', 'start', 'light', 'teas', 'eventu', 'knee', 'play', 'behind', 'gave', 'swat', 'ass', 'tell', 'turn', 'proceed', 'slow', 'allow', 'releas', 'top', 'bra', 'fun', 'play', 'nice', 'hard', 'nippl', 'offer', 'dati', 'oblig', 'posit', '69', 'enjoy', 'hairi', 'wet', 'pussi', 'face', 'sure', 'realli', 'enjoy', 'quietli', 'vocal', 'squirm', 'bodi', 'time', 'tongu', 'went', 'deeper', 'min', 'came', 'stand-up', 'dress', 'help', 'clean', \"i'm\", 'sure', 'avail', 'satisfi', 'enjoy', 'time', 'help', 'get', 'dress', 'went', 'ask', 'come', 'back', 'would', 'live', 'closer', 'treat']\n",
      "0\t0.59068196\tb\"stop later afternoon walk time anoth one met ladi wear face mask check temp gave pop sanit think name coco look cute room gave thorough massag occasion reach massag leg ass let know standard massag realli good went long thought might strike final start light teas eventu knee play behind gave swat ass tell turn proceed slow allow releas top bra fun play nice hard nippl offer dati oblig posit 69 enjoy hairi wet pussi face sure realli enjoy quietli vocal squirm bodi time tongu went deeper min came stand-up dress help clean i'm sure avail satisfi enjoy time help get dress went ask come back would live closer treat\"\n",
      "the review is:  Garden was busy (come back in 1 1/2 hrs) so I went here. Coco met me and took me to room, collected the money. She wore a mask but no temp taken. I got naked and she returned, and started a \"massage\" - running fingernails over back. She wore a short skirt and thong panties and didn't mind when I slid my hand inside. Lots of tease and playing with the twins, and reaching under for lil willie. Flipped for good HJ and mounted 69 position for DATY. I asked for more but she said no way.\n",
      "te processed review is:  ['garden', 'busi', 'come', 'back', '1', '1/2', 'hr', 'went', 'coco', 'met', 'took', 'room', 'collect', 'money', 'wore', 'mask', 'temp', 'taken', 'got', 'nake', 'return', 'start', 'massag', 'run', 'fingernail', 'back', 'wore', 'short', 'skirt', 'thong', 'panti', 'mind', 'slid', 'hand', 'insid', 'lot', 'teas', 'play', 'twin', 'reach', 'lil', 'willi', 'flip', 'good', 'hj', 'mount', '69', 'posit', 'dati', 'ask', 'said', 'way']\n",
      "0\t0.54102028\tb'garden busi come back 1 1/2 hr went coco met took room collect money wore mask temp taken got nake return start massag run fingernail back wore short skirt thong panti mind slid hand insid lot teas play twin reach lil willi flip good hj mount 69 posit dati ask said way'\n",
      "the review is:  I was pissed. Store was slow and she seemed nice and friendly. She never offered any extra service or hinted it was allowed. She even said at the end “That’s all, please get dressed” as she walked out and got me some water (of course). Then as I left she stated “What, NO TIP ?” As I gave her $10.00 and a dirty look. I won’t return.\n",
      "te processed review is:  ['piss', 'store', 'slow', 'seem', 'nice', 'friendli', 'never', 'offer', 'extra', 'servic', 'hint', 'allow', 'even', 'said', 'end', '“', '’', 'pleas', 'get', 'dress', '”', 'walk', 'got', 'water', 'cours', 'left', 'state', '“', 'tip', '”', 'gave', '00', 'dirti', 'look', '’', 'return']\n",
      "0\t0.52722262\tb'piss store slow seem nice friendli never offer extra servic hint allow even said end   pleas get dress  walk got water cours left state  tip  gave 00 dirti look  return'\n",
      "the review is:  Went in and waited I greeted for a couple minutes just inside the door. Old lady came out escorting her last client and said she was changing sheets to come back. Finishes laying out sheet on table and small sheet on face hole, takes payment for 1 hr ($60 I give her $100 bill) and she leaves me to get undressed, pile of old sheets still on floor.  Brings back $40 change places on the table and takes sheets out of room leaving door open and me on the table ass up naked. \n",
      "\n",
      "2min into the light rub the gal I saw last time comes in talking to her and then walks all the way in and says real busy you do half hour today ok agreed for $40 cause I see this isn’t what I had in mind and was hoping they had planned to switch when she came in. Gal I had last time brings in $20 change and puts it w the other $40 on the table. \n",
      "\n",
      "Nothing special light rub on backside, flip, I managed to get hard cause she massaged the groin just prior and then a brief chest rub down to groin and finally starts HE. Moves down to my ass and starts massaging gently at first then goes to insert but not so gentle and wrong angle/missing wasn’t pleasurable. She put her knee up on the table to give access to otc roaming and I needed it with eyes closed to finally get to the release. \n",
      "\n",
      "She leaves to clean up and Im getting dressed when she comes back in and says clean up as she fluffs the sheet over the face hole and repositions it back into place…. WTF!  I just butter on the sheet over the table and she wipes the wet spot and then smooths put the sheet without changing it!  \n",
      "\n",
      "Now I look down and there’s only $40 change on the table. She gets mad when I show her and says “NO 60” in her mad grandma voice\n",
      "\n",
      "I just left it on the table and walked out. \n",
      "\n",
      "Won’t be back, disgusting\n",
      "te processed review is:  ['went', 'wait', 'greet', 'coupl', 'minut', 'insid', 'door', 'old', 'ladi', 'came', 'escort', 'last', 'client', 'said', 'chang', 'sheet', 'come', 'back', 'finish', 'lay', 'sheet', 'tabl', 'small', 'sheet', 'face', 'hole', 'take', 'payment', '1', 'hr', 'give', 'bill', 'leav', 'get', 'undress', 'pile', 'old', 'sheet', 'still', 'floor', 'bring', 'back', 'chang', 'place', 'tabl', 'take', 'sheet', 'room', 'leav', 'door', 'open', 'tabl', 'ass', 'nake', '2min', 'light', 'rub', 'gal', 'saw', 'last', 'time', 'come', 'talk', 'walk', 'way', 'say', 'real', 'busi', 'half', 'hour', 'today', 'ok', 'agre', 'caus', 'see', '’', 'mind', 'hope', 'plan', 'switch', 'came', 'gal', 'last', 'time', 'bring', 'chang', 'put', 'w', 'tabl', 'noth', 'special', 'light', 'rub', 'backsid', 'flip', 'manag', 'get', 'hard', 'caus', 'massag', 'groin', 'prior', 'brief', 'chest', 'rub', 'groin', 'final', 'start', 'move', 'ass', 'start', 'massag', 'gentli', 'first', 'goe', 'insert', 'gentl', 'wrong', 'angl', 'miss', '’', 'pleasur', 'put', 'knee', 'tabl', 'give', 'access', 'otc', 'roam', 'need', 'eye', 'close', 'final', 'get', 'releas', 'leav', 'clean', 'im', 'get', 'dress', 'come', 'back', 'say', 'clean', 'fluff', 'sheet', 'face', 'hole', 'reposit', 'back', 'place', '…', 'wtf', 'butter', 'sheet', 'tabl', 'wipe', 'wet', 'spot', 'smooth', 'put', 'sheet', 'without', 'chang', 'look', '’', 'chang', 'tabl', 'get', 'mad', 'show', 'say', '“', '60', '”', 'mad', 'grandma', 'voic', 'left', 'tabl', 'walk', '’', 'back', 'disgust']\n",
      "0\t0.66412362\tb'went wait greet coupl minut insid door old ladi came escort last client said chang sheet come back finish lay sheet tabl small sheet face hole take payment 1 hr give bill leav get undress pile old sheet still floor bring back chang place tabl take sheet room leav door open tabl ass nake 2min light rub gal saw last time come talk walk way say real busi half hour today ok agre caus see  mind hope plan switch came gal last time bring chang put w tabl noth special light rub backsid flip manag get hard caus massag groin prior brief chest rub groin final start move ass start massag gentli first goe insert gentl wrong angl miss  pleasur put knee tabl give access otc roam need eye close final get releas leav clean im get dress come back say clean fluff sheet face hole reposit back place  wtf butter sheet tabl wipe wet spot smooth put sheet without chang look  chang tabl get mad show say  60  mad grandma voic left tabl walk  back disgust'\n",
      "the review is:  Want offered and didn’t ask for a TS, will ask next time.  \n",
      "\n",
      "Massage quality is good some decent teasing and stroking from behind when face down.  w 10 min left she got a hand full of oil and pointed at JR and began to strike me sensually while rubbing taint. I pushed her hand down slightly and she inserted a finger slightly but not a full PM. Started stroking  with more fervor and I released. Cleaned up a little more leg run then water and out the door. Think I will try again soon asking for TS and PM up front\n",
      "te processed review is:  ['want', 'offer', '’', 'ask', 'ts', 'ask', 'next', 'time', 'massag', 'qualiti', 'good', 'decent', 'teas', 'stroke', 'behind', 'face', 'w', '10', 'min', 'left', 'got', 'hand', 'full', 'oil', 'point', 'jr', 'began', 'strike', 'sensual', 'rub', 'taint', 'push', 'hand', 'slightli', 'insert', 'finger', 'slightli', 'full', 'pm', 'start', 'stroke', 'fervor', 'releas', 'clean', 'littl', 'leg', 'run', 'water', 'door', 'think', 'tri', 'soon', 'ask', 'ts', 'pm', 'front']\n",
      "0\t0.53370483\tb'want offer  ask ts ask next time massag qualiti good decent teas stroke behind face w 10 min left got hand full oil point jr began strike sensual rub taint push hand slightli insert finger slightli full pm start stroke fervor releas clean littl leg run water door think tri soon ask ts pm front'\n",
      "the review is:  The one I had didn't upsell so hard so that's a big plus here. Coco was her name and she looked good. Had an okay face and nice enough tits so that was a big plus with her. Other than that, it exceeded my expectations here and the service was what I needed. Just the good ol' rub and eventualass tease but nothing beyond that, i think that shit was even purely therapeutic and my perv mind thought she wanted more but nah, not worth your time.\n",
      "te processed review is:  ['one', 'upsel', 'hard', \"that'\", 'big', 'plu', 'coco', 'name', 'look', 'good', 'okay', 'face', 'nice', 'enough', 'tit', 'big', 'plu', 'exceed', 'expect', 'servic', 'need', 'good', 'ol', 'rub', 'eventualass', 'teas', 'noth', 'beyond', 'think', 'shit', 'even', 'pure', 'therapeut', 'perv', 'mind', 'thought', 'want', 'nah', 'worth', 'time']\n",
      "0\t0.51649942\tb\"one upsel hard that' big plu coco name look good okay face nice enough tit big plu exceed expect servic need good ol rub eventualass teas noth beyond think shit even pure therapeut perv mind thought want nah worth time\"\n",
      "the review is:  Lucy had her hands all over my body the entire time. She didn’t leave anything out She even got into my scalp, something that I had never experienced before. Her hand motions were smooth and timed right. I was slightly aroused by the time I got flipped over so my cock was a little swollen. While she was working my front I noticed that her hands nearly went right over my cock, but she hesitated and went around instead. We finished the massage a little later and I walked out thinking about when she nearly grabbed my cock. I'm going back next time to tell her I won't mind haha!\n",
      "te processed review is:  ['luci', 'hand', 'bodi', 'entir', 'time', '’', 'leav', 'anyth', 'even', 'got', 'scalp', 'someth', 'never', 'experienc', 'hand', 'motion', 'smooth', 'time', 'right', 'slightli', 'arous', 'time', 'got', 'flip', 'cock', 'littl', 'swollen', 'work', 'front', 'notic', 'hand', 'nearli', 'went', 'right', 'cock', 'hesit', 'went', 'around', 'instead', 'finish', 'massag', 'littl', 'later', 'walk', 'think', 'nearli', 'grab', 'cock', \"i'm\", 'go', 'back', 'next', 'time', 'tell', 'mind', 'haha']\n",
      "0\t0.53536966\tb\"luci hand bodi entir time  leav anyth even got scalp someth never experienc hand motion smooth time right slightli arous time got flip cock littl swollen work front notic hand nearli went right cock hesit went around instead finish massag littl later walk think nearli grab cock i'm go back next time tell mind haha\"\n",
      "the review is:  Lisa greets me once i am all naked in the room.  It's a small cozy room, very nice and clean. She works therapeutically on me, and tbh i wasn't even thinking about HE...until it was time for the flip, i got hard and she noticed, asked for FS but no go, not even HJ... I asked if i could jerk off she agreed and allowed me to touch her ass on the outside for a few seconds before popping. Okay, spot if you're looking for legit fun...nothing else, i might not come back.  YMMV\n",
      "te processed review is:  ['lisa', 'greet', 'nake', 'room', 'small', 'cozi', 'room', 'nice', 'clean', 'work', 'therapeut', 'tbh', 'even', 'think', '...', 'time', 'flip', 'got', 'hard', 'notic', 'ask', 'fs', 'go', 'even', 'hj', '...', 'ask', 'could', 'jerk', 'agre', 'allow', 'touch', 'ass', 'outsid', 'second', 'pop', 'okay', 'spot', 'look', 'legit', 'fun', '...', 'noth', 'els', 'might', 'come', 'back', 'ymmv']\n",
      "0\t0.52720370\tb'lisa greet nake room small cozi room nice clean work therapeut tbh even think ... time flip got hard notic ask fs go even hj ... ask could jerk agre allow touch ass outsid second pop okay spot look legit fun ... noth els might come back ymmv'\n",
      "the review is:  I crawled on the table and she went to work. Decent massage, with a bit of teasing and didn't mind when May was at my head for a little ass grab. Finally came the flip and she started in on jr. I was rubbing her ass, and boobs, so she released only one for me to play with. Nothing utc underneath tho..\n",
      "\n",
      "She seems get into it. After a bit I popped, May cleaned me up, touched my feet for about a minute and I was on my way.The only down thing for this was with about 10 minutes left, someone came to the door, and she said to come back in 10. When I left he was sitting there in his truck, right next to the front door. Dude, how about a little space?\n",
      "te processed review is:  ['crawl', 'tabl', 'went', 'work', 'decent', 'massag', 'bit', 'teas', 'mind', 'may', 'head', 'littl', 'ass', 'grab', 'final', 'came', 'flip', 'start', 'jr', 'rub', 'ass', 'boob', 'releas', 'one', 'play', 'noth', 'utc', 'underneath', 'tho', '..', 'seem', 'get', 'bit', 'pop', 'may', 'clean', 'touch', 'feet', 'minut', 'way.th', 'thing', '10', 'minut', 'left', 'someon', 'came', 'door', 'said', 'come', 'back', '10', 'left', 'sit', 'truck', 'right', 'next', 'front', 'door', 'dude', 'littl', 'space']\n",
      "0\t0.57186046\tb'crawl tabl went work decent massag bit teas mind may head littl ass grab final came flip start jr rub ass boob releas one play noth utc underneath tho .. seem get bit pop may clean touch feet minut way.th thing 10 minut left someon came door said come back 10 left sit truck right next front door dude littl space'\n",
      "the review is:  Walked in and someone said Hello and I was waiting for someone older to come out and I was very surprised that she was very young and cute and her English wasn’t terrible, her name was CiCi. She said she’s here visiting from New York for only 4 days so if you’re in the area it maybe worth a shot. \n",
      "\n",
      "Started off with a massage it was decent and we had small talk as well. No teasing or anything but still was satisfying because she was young and pretty. On the flip she started massaging my Jr and ask me was it okay I said sure. She let me touch her butt outside her shorts while she gave me a nice HJ with oil. I didn’t really try to force anything but she seemed to be open minded and very nice so there’s maybe more on the menu. Overall a sweet girl I would check her out fast she leaves Friday and going back to NYC.\n",
      "te processed review is:  ['walk', 'someon', 'said', 'hello', 'wait', 'someon', 'older', 'come', 'surpris', 'young', 'cute', 'english', '’', 'terribl', 'name', 'cici', 'said', '’', 'visit', 'new', 'york', '4', 'day', '’', 'area', 'mayb', 'worth', 'shot', 'start', 'massag', 'decent', 'small', 'talk', 'well', 'teas', 'anyth', 'still', 'satisfi', 'young', 'pretti', 'flip', 'start', 'massag', 'jr', 'ask', 'okay', 'said', 'sure', 'let', 'touch', 'butt', 'outsid', 'short', 'gave', 'nice', 'hj', 'oil', '’', 'realli', 'tri', 'forc', 'anyth', 'seem', 'open', 'mind', 'nice', '’', 'mayb', 'menu', 'overal', 'sweet', 'girl', 'would', 'check', 'fast', 'leav', 'friday', 'go', 'back', 'nyc']\n",
      "0\t0.53041747\tb'walk someon said hello wait someon older come surpris young cute english  terribl name cici said  visit new york 4 day  area mayb worth shot start massag decent small talk well teas anyth still satisfi young pretti flip start massag jr ask okay said sure let touch butt outsid short gave nice hj oil  realli tri forc anyth seem open mind nice  mayb menu overal sweet girl would check fast leav friday go back nyc'\n",
      "the review is:  Ann first started the massage. She was so tiny that I asked her to kneel on and stand on my back for few times. I told her I saw her before, she said she don’t remember, lol, a very honest person.\n",
      "\n",
      "On the flip, she asked me what I want and I told her FS of course. She smiled and started with HJ. She also gave me a nice kissing all around my body, that was exactly what I wanted. Put on the covered, we changed few positions and finished in Doggie. Watching her slim body from behind was such a treat.\n",
      "te processed review is:  ['ann', 'first', 'start', 'massag', 'tini', 'ask', 'kneel', 'stand', 'back', 'time', 'told', 'saw', 'said', '’', 'rememb', 'lol', 'honest', 'person', 'flip', 'ask', 'want', 'told', 'fs', 'cours', 'smile', 'start', 'hj', 'also', 'gave', 'nice', 'kiss', 'around', 'bodi', 'exactli', 'want', 'put', 'cover', 'chang', 'posit', 'finish', 'doggi', 'watch', 'slim', 'bodi', 'behind', 'treat']\n",
      "0\t0.62391779\tb'ann first start massag tini ask kneel stand back time told saw said  rememb lol honest person flip ask want told fs cours smile start hj also gave nice kiss around bodi exactli want put cover chang posit finish doggi watch slim bodi behind treat'\n",
      "the review is:  I went into the place I was really stressed after work so I really wanted to have just a relaxing time, I wanted to just lay down and have someone take care of me without me having to do anything, and that is pretty much what I got.\n",
      "\n",
      "I laid on the bed, and she started to do her magic, my back was so tight I could barely feel her touch, but luckily she noticed how tense I was so she started to dig in the elbow and that did the trick, after a bit she teased my balls and even fingers me a bit, it was a bit unexpected but it actually felt good, so I flipped and I was really hard, she continued to finger me but this time she stroked my cock and that just took me to a whole other level, she made me feel so fucking hot, I popped after about 10 minutes, she was great.\n",
      "\n",
      "I want to come back and have a bit more fun with Lina\n",
      "te processed review is:  ['went', 'place', 'realli', 'stress', 'work', 'realli', 'want', 'relax', 'time', 'want', 'lay', 'someon', 'take', 'care', 'without', 'anyth', 'pretti', 'much', 'got', 'laid', 'bed', 'start', 'magic', 'back', 'tight', 'could', 'bare', 'feel', 'touch', 'luckili', 'notic', 'tens', 'start', 'dig', 'elbow', 'trick', 'bit', 'teas', 'ball', 'even', 'finger', 'bit', 'bit', 'unexpect', 'actual', 'felt', 'good', 'flip', 'realli', 'hard', 'continu', 'finger', 'time', 'stroke', 'cock', 'took', 'whole', 'level', 'made', 'feel', 'fuck', 'hot', 'pop', '10', 'minut', 'great', 'want', 'come', 'back', 'bit', 'fun', 'lina']\n",
      "0\t0.64879674\tb'went place realli stress work realli want relax time want lay someon take care without anyth pretti much got laid bed start magic back tight could bare feel touch luckili notic tens start dig elbow trick bit teas ball even finger bit bit unexpect actual felt good flip realli hard continu finger time stroke cock took whole level made feel fuck hot pop 10 minut great want come back bit fun lina'\n",
      "the review is:  Walked in around lunchtime. Reviews said non erotic but location easy so wanted to try. Tina greeted at door and walked me to room. Massage was topical right up until the flip. Then, she tickled the ass and balls with her nails. It was so good I almost exploded before the flip. Once over, she asked if I wanted a HE. I agreed to $100 if she took her top off.  She hesitated for about a minute but agreed.  Nice B size tits with great nipples. Sucked on those for a while and slid her bottom off to play some more. She took her time with the HJ until I let go. Think she would have gone for more but really enjoyed the ass play and the slow HJ to finish. Will go back.\n",
      "te processed review is:  ['walk', 'around', 'lunchtim', 'review', 'said', 'non', 'erot', 'locat', 'easi', 'want', 'tri', 'tina', 'greet', 'door', 'walk', 'room', 'massag', 'topic', 'right', 'flip', 'tickl', 'ass', 'ball', 'nail', 'good', 'almost', 'explod', 'flip', 'ask', 'want', 'agre', 'took', 'top', 'hesit', 'minut', 'agre', 'nice', 'b', 'size', 'tit', 'great', 'nippl', 'suck', 'slid', 'bottom', 'play', 'took', 'time', 'hj', 'let', 'go', 'think', 'would', 'gone', 'realli', 'enjoy', 'ass', 'play', 'slow', 'hj', 'finish', 'go', 'back']\n",
      "0\t0.61923290\tb'walk around lunchtim review said non erot locat easi want tri tina greet door walk room massag topic right flip tickl ass ball nail good almost explod flip ask want agre took top hesit minut agre nice b size tit great nippl suck slid bottom play took time hj let go think would gone realli enjoy ass play slow hj finish go back'\n",
      "the review is:  Tina was my girl for today, I could smell the place reeking of food and alcohol; not sure if they had a birthday celebration or what, but it was weird .. I waited for 3 minutes in the ''lobby'' and Tina was cleaning her mouth when she greeted me. I said jokingly if I came late to the party, and she motioned me to follow her. In the room, she said she only offered thirty minutes, and I said okay. I waited maybe 10 minutes and she came back; she wasn't too happy I interrupted their celebration or whatever the fuck was going on there but it sure had an impact on the session...sadly the massage sucked; she never hinted anything and I got bored and left around 20 minutes...i won't come back, left me a bad taste in my mouth.\n",
      "te processed review is:  ['tina', 'girl', 'today', 'could', 'smell', 'place', 'reek', 'food', 'alcohol', 'sure', 'birthday', 'celebr', 'weird', '..', 'wait', '3', 'minut', 'lobbi', 'tina', 'clean', 'mouth', 'greet', 'said', 'jokingli', 'came', 'late', 'parti', 'motion', 'follow', 'room', 'said', 'offer', 'thirti', 'minut', 'said', 'okay', 'wait', 'mayb', '10', 'minut', 'came', 'back', 'happi', 'interrupt', 'celebr', 'whatev', 'fuck', 'go', 'sure', 'impact', 'session', '...', 'sadli', 'massag', 'suck', 'never', 'hint', 'anyth', 'got', 'bore', 'left', 'around', '20', 'minut', '...', 'come', 'back', 'left', 'bad', 'tast', 'mouth']\n",
      "0\t0.52809627\tb'tina girl today could smell place reek food alcohol sure birthday celebr weird .. wait 3 minut lobbi tina clean mouth greet said jokingli came late parti motion follow room said offer thirti minut said okay wait mayb 10 minut came back happi interrupt celebr whatev fuck go sure impact session ... sadli massag suck never hint anyth got bore left around 20 minut ... come back left bad tast mouth'\n",
      "the review is:  Amy is very nice with pleasant personality. Does a good job in HJ. Takes out one tit every time. Good attitude. However, she didn't want to BJ or more. Tried to suck on saggy boobs, she wanted more money. Not worth to pay for it after paying $50. \n",
      "\n",
      "She does a very good job playing with ass area and putting a little tip go the finger in. Overall good experience though.\n",
      "te processed review is:  ['ami', 'nice', 'pleasant', 'person', 'good', 'job', 'hj', 'take', 'one', 'tit', 'everi', 'time', 'good', 'attitud', 'howev', 'want', 'bj', 'tri', 'suck', 'saggi', 'boob', 'want', 'money', 'worth', 'pay', 'pay', 'good', 'job', 'play', 'ass', 'area', 'put', 'littl', 'tip', 'go', 'finger', 'overal', 'good', 'experi', 'though']\n",
      "0\t0.58505963\tb'ami nice pleasant person good job hj take one tit everi time good attitud howev want bj tri suck saggi boob want money worth pay pay good job play ass area put littl tip go finger overal good experi though'\n",
      "the review is:  Both Julie and Cindy give really good massages. I prefer Cindy since she's stronger. There is a pole above the bed in case you guys enjoy getting your back stepped on and spine cracked. That's worth the 40 bucks alone if you ask me.   So to the exciting part. The first day I had no cash, so on the flip, Julie right away teased my thighs. I had my undies on so once she noticed my boner she asked me if I wanted me to take care of it. I rubbed her back and butt and explained I was in a rush and that next time I would come look for her. I sat down, asked her name and did small chat. Told her how sexy she was. Gave her a good hug and whispered if she would do more than a HJ she said yes, she had sexy lace undies that she showed me. So I got dressed and told her I would come back. She wanted a tip and I promised I had no cash but would come back...  The next day she wasn't there and Cindy was my provider. I was so excited because she is way hotter and athletic. Same process. She asked for the cash up front, I gave there the 40 and this time I got all naked and faced down.  Cindy came back and stepped on my back like a pro. I asked for some oil rub she did. While I was down she let me touch her legs and thighs. I was hoping things would get better once I flipped but they didn't she totally rubbed everywhere except where I was hoping she would. I still rubbed her back and butt. I did not ask for anything and she did not offer. Gave here a 20 tip for the really good massage.   The third time I got Julie again and she remembered me. I told her I was back as I promised. This time at the flip she gave me a really good HJ. She has warm lube so that was nice. I got her to pull her pants to her knees while I played with her parts. Overall it was a good experience with her. She was ok with the 40 tip.  I will try Cindy next time hoping she warms up to me and is open to more.\n",
      "te processed review is:  ['juli', 'cindi', 'give', 'realli', 'good', 'massag', 'prefer', 'cindi', 'sinc', 'stronger', 'pole', 'bed', 'case', 'guy', 'enjoy', 'get', 'back', 'step', 'spine', 'crack', \"that'\", 'worth', '40', 'buck', 'alon', 'ask', 'excit', 'part', 'first', 'day', 'cash', 'flip', 'juli', 'right', 'away', 'teas', 'thigh', 'undi', 'notic', 'boner', 'ask', 'want', 'take', 'care', 'rub', 'back', 'butt', 'explain', 'rush', 'next', 'time', 'would', 'come', 'look', 'sat', 'ask', 'name', 'small', 'chat', 'told', 'sexi', 'gave', 'good', 'hug', 'whisper', 'would', 'hj', 'said', 'ye', 'sexi', 'lace', 'undi', 'show', 'got', 'dress', 'told', 'would', 'come', 'back', 'want', 'tip', 'promis', 'cash', 'would', 'come', 'back', '...', 'next', 'day', 'cindi', 'provid', 'excit', 'way', 'hotter', 'athlet', 'process', 'ask', 'cash', 'front', 'gave', '40', 'time', 'got', 'nake', 'face', 'cindi', 'came', 'back', 'step', 'back', 'like', 'pro', 'ask', 'oil', 'rub', 'let', 'touch', 'leg', 'thigh', 'hope', 'thing', 'would', 'get', 'better', 'flip', 'total', 'rub', 'everywher', 'except', 'hope', 'would', 'still', 'rub', 'back', 'butt', 'ask', 'anyth', 'offer', 'gave', '20', 'tip', 'realli', 'good', 'massag', 'third', 'time', 'got', 'juli', 'rememb', 'told', 'back', 'promis', 'time', 'flip', 'gave', 'realli', 'good', 'hj', 'warm', 'lube', 'nice', 'got', 'pull', 'pant', 'knee', 'play', 'part', 'overal', 'good', 'experi', 'ok', '40', 'tip', 'tri', 'cindi', 'next', 'time', 'hope', 'warm', 'open']\n",
      "0\t0.53473818\tb\"juli cindi give realli good massag prefer cindi sinc stronger pole bed case guy enjoy get back step spine crack that' worth 40 buck alon ask excit part first day cash flip juli right away teas thigh undi notic boner ask want take care rub back butt explain rush next time would come look sat ask name small chat told sexi gave good hug whisper would hj said ye sexi lace undi show got dress told would come back want tip promis cash would come back ... next day cindi provid excit way hotter athlet process ask cash front gave 40 time got nake face cindi came back step back like pro ask oil rub let touch leg thigh hope thing would get better flip total rub everywher except hope would still rub back butt ask anyth offer gave 20 tip realli good massag third time got juli rememb told back promis time flip gave realli good hj warm lube nice got pull pant knee play part overal good experi ok 40 tip tri cindi next time hope warm open\"\n",
      "the review is:  Had a great time with Amy, she showed me to the room and left for a few mins while I got undressed, then came back and asked how I wanted the massage.\n",
      "\n",
      "Her massage is good and with lots of teasing. Didn't mind me feeling her ass and tits. I tell her I like my balls played with and she'll bounce them I bit, and laugh, like a little girl being bad??\n",
      "\n",
      "However on the flip she oils me up and starts a long slow HJ and although I always have to ask, she adds a bit to the back door. She senses well and will increase the speed of the HJ to time my blast.\n",
      "te processed review is:  ['great', 'time', 'ami', 'show', 'room', 'left', 'min', 'got', 'undress', 'came', 'back', 'ask', 'want', 'massag', 'massag', 'good', 'lot', 'teas', 'mind', 'feel', 'ass', 'tit', 'tell', 'like', 'ball', 'play', \"she'll\", 'bounc', 'bit', 'laugh', 'like', 'littl', 'girl', 'bad', 'howev', 'flip', 'oil', 'start', 'long', 'slow', 'hj', 'although', 'alway', 'ask', 'add', 'bit', 'back', 'door', 'sens', 'well', 'increas', 'speed', 'hj', 'time', 'blast']\n",
      "0\t0.55417394\tb\"great time ami show room left min got undress came back ask want massag massag good lot teas mind feel ass tit tell like ball play she'll bounc bit laugh like littl girl bad howev flip oil start long slow hj although alway ask add bit back door sens well increas speed hj time blast\"\n",
      "the review is:  Was welcomed in by an attractive older Chinese lady whose name was Angela.\n",
      "Paid for half an hour and skipped the TS and told her I wanted the shower afterward. \n",
      "Once inside the room, she gave me a decent massage. Wasnt the best and wasn't the worst. A little tease that wasn't so great and she had me flip. Then, went straight to the HJ. Bra is undone, shirt up to show little tits with nice little nipples. Pants down to knees showing a trimmed and nice pussy, allowed FIV.  The finish was superb. I busted a big one.  A little head rub after the hot towel, and a brisk table shower. Tipped and she gave me a tiny water bottle when I was about to go out the door.\n",
      "All in all. It was just what I needed.\n",
      "te processed review is:  ['welcom', 'attract', 'older', 'chines', 'ladi', 'whose', 'name', 'angela', 'paid', 'half', 'hour', 'skip', 'ts', 'told', 'want', 'shower', 'afterward', 'insid', 'room', 'gave', 'decent', 'massag', 'wasnt', 'best', 'worst', 'littl', 'teas', 'great', 'flip', 'went', 'straight', 'hj', 'bra', 'undon', 'shirt', 'show', 'littl', 'tit', 'nice', 'littl', 'nippl', 'pant', 'knee', 'show', 'trim', 'nice', 'pussi', 'allow', 'fiv', 'finish', 'superb', 'bust', 'big', 'one', 'littl', 'head', 'rub', 'hot', 'towel', 'brisk', 'tabl', 'shower', 'tip', 'gave', 'tini', 'water', 'bottl', 'go', 'door', 'need']\n",
      "0\t0.59356396\tb'welcom attract older chines ladi whose name angela paid half hour skip ts told want shower afterward insid room gave decent massag wasnt best worst littl teas great flip went straight hj bra undon shirt show littl tit nice littl nippl pant knee show trim nice pussi allow fiv finish superb bust big one littl head rub hot towel brisk tabl shower tip gave tini water bottl go door need'\n",
      "the review is:  Called in and made an appointment with Amy due to reviews.  Voice on the line told me to come.  \n",
      "\n",
      "When I arrived I knocked on the door and stood outside for a minute with no answer.  Tried calling while walking to car and voice told me to come back.  \n",
      "I’m greeted by an old grandma inside an apartment style establishment that smells like a Chinese pharmacy.  I ask about Amy and she says “me Anna me Anna” sounding confused.  \n",
      "\n",
      "Spent another minute asking about Amy but all she kept saying was “me Anna”.  Walked out.  Complete waste of time.\n",
      "te processed review is:  ['call', 'made', 'appoint', 'ami', 'due', 'review', 'voic', 'line', 'told', 'come', 'arriv', 'knock', 'door', 'stood', 'outsid', 'minut', 'answer', 'tri', 'call', 'walk', 'car', 'voic', 'told', 'come', 'back', '’', 'greet', 'old', 'grandma', 'insid', 'apart', 'style', 'establish', 'smell', 'like', 'chines', 'pharmaci', 'ask', 'ami', 'say', '“', 'anna', 'anna', '”', 'sound', 'confus', 'spent', 'anoth', 'minut', 'ask', 'ami', 'kept', 'say', '“', 'anna', '”', 'walk', 'complet', 'wast', 'time']\n",
      "0\t0.52341599\tb'call made appoint ami due review voic line told come arriv knock door stood outsid minut answer tri call walk car voic told come back  greet old grandma insid apart style establish smell like chines pharmaci ask ami say  anna anna  sound confus spent anoth minut ask ami kept say  anna  walk complet wast time'\n",
      "the review is:  She's got quite the bod for a woman her age. Nice smile, b cups, little ass.\n",
      "\n",
      "She had great technique on my shoulders and back. She was really into it this last visit, she even hopped up on the table and straddled my head, which got me going and I really thought it was on. I waited for the fun stuff to start but she neither touched my junk nor showed any indication that anything else would happen. For a moment, I was tempted to reach up and grab her ass, but I didn't know how well that would go for me so I thought better of it and held off.\n",
      "\n",
      "I'm patient but at some point, I'd like for something nice to happen below the belt, so far, all I have to report is a really good massage.\n",
      "te processed review is:  ['got', 'quit', 'bod', 'woman', 'age', 'nice', 'smile', 'b', 'cup', 'littl', 'ass', 'great', 'techniqu', 'shoulder', 'back', 'realli', 'last', 'visit', 'even', 'hop', 'tabl', 'straddl', 'head', 'got', 'go', 'realli', 'thought', 'wait', 'fun', 'stuff', 'start', 'neither', 'touch', 'junk', 'show', 'indic', 'anyth', 'els', 'would', 'happen', 'moment', 'tempt', 'reach', 'grab', 'ass', 'know', 'well', 'would', 'go', 'thought', 'better', 'held', \"i'm\", 'patient', 'point', \"i'd\", 'like', 'someth', 'nice', 'happen', 'belt', 'far', 'report', 'realli', 'good', 'massag']\n",
      "0\t0.55764254\tb\"got quit bod woman age nice smile b cup littl ass great techniqu shoulder back realli last visit even hop tabl straddl head got go realli thought wait fun stuff start neither touch junk show indic anyth els would happen moment tempt reach grab ass know well would go thought better held i'm patient point i'd like someth nice happen belt far report realli good massag\"\n",
      "the review is:  I've had pretty good sessions with Coco  in the past, so I was excited to get her for the sesh. Massage was okay but she was distracted, not engaging with me. \n",
      "\n",
      "I was disappointed when Coco immediately pulled out a condom. She told me that I could have another girl if I wanted, but I chose not to change horses in the middle of the stream.\n",
      "\n",
      "She began a lackluster CBJ that didn't do a lot for me. She lubed up and was about to climb on when I asked if we could try a little DATY. she said no. \n",
      "\n",
      "I tried a little CFS but mini-me wasn't up to the job. (Getting old sucks!) Coco pulled off the condom and proceeded to give me a nice hand job until I popped.\n",
      "te processed review is:  [\"i'v\", 'pretti', 'good', 'session', 'coco', 'past', 'excit', 'get', 'sesh', 'massag', 'okay', 'distract', 'engag', 'disappoint', 'coco', 'immedi', 'pull', 'condom', 'told', 'could', 'anoth', 'girl', 'want', 'chose', 'chang', 'hors', 'middl', 'stream', 'began', 'lacklust', 'cbj', 'lot', 'lube', 'climb', 'ask', 'could', 'tri', 'littl', 'dati', 'said', 'tri', 'littl', 'cf', 'mini-m', 'job', 'get', 'old', 'suck', 'coco', 'pull', 'condom', 'proceed', 'give', 'nice', 'hand', 'job', 'pop']\n",
      "0\t0.55702530\tb\"i'v pretti good session coco past excit get sesh massag okay distract engag disappoint coco immedi pull condom told could anoth girl want chose chang hors middl stream began lacklust cbj lot lube climb ask could tri littl dati said tri littl cf mini-m job get old suck coco pull condom proceed give nice hand job pop\"\n",
      "the review is:  Not my first time at this place, I went in and was greeted by Linda, showed me to the room where I got a few mins to undress and then she came back to get started with me.\n",
      "\n",
      "Actually a decent massage and managed to get her to do topless. After about 20 mins asked me to flip over and grabbed by dick with a firm grip. She let me grab her tits and her ass while she stroked me for about 5 mins, then she began doing a PM on me and that felt good, I handled my own until I couldn't last any longer and shot a pretty strong load.\n",
      "\n",
      "All in all it was a great time, just what I was looking for, will recommend for sure.\n",
      "te processed review is:  ['first', 'time', 'place', 'went', 'greet', 'linda', 'show', 'room', 'got', 'min', 'undress', 'came', 'back', 'get', 'start', 'actual', 'decent', 'massag', 'manag', 'get', 'topless', '20', 'min', 'ask', 'flip', 'grab', 'dick', 'firm', 'grip', 'let', 'grab', 'tit', 'ass', 'stroke', '5', 'min', 'began', 'pm', 'felt', 'good', 'handl', 'last', 'longer', 'shot', 'pretti', 'strong', 'load', 'great', 'time', 'look', 'recommend', 'sure']\n",
      "0\t0.56252701\tb'first time place went greet linda show room got min undress came back get start actual decent massag manag get topless 20 min ask flip grab dick firm grip let grab tit ass stroke 5 min began pm felt good handl last longer shot pretti strong load great time look recommend sure'\n",
      "the review is:  Got bored and called to see who is available  . MMS suggest me to try new girl Lucy and oh my gosh  she is perfect .Good service and I love the vip suite and definitely will come back again . I highly recommend to go check her out and you won’t be disappointed\n",
      "te processed review is:  ['got', 'bore', 'call', 'see', 'avail', 'mm', 'suggest', 'tri', 'new', 'girl', 'luci', 'oh', 'gosh', 'perfect', 'good', 'servic', 'love', 'vip', 'suit', 'definit', 'come', 'back', 'highli', 'recommend', 'go', 'check', '’', 'disappoint']\n",
      "0\t0.53291457\tb'got bore call see avail mm suggest tri new girl luci oh gosh perfect good servic love vip suit definit come back highli recommend go check  disappoint'\n",
      "the review is:  Easy setup for appointment. Ask for Yoyo with the VIP suite. \n",
      "\n",
      "Standard COVID check and I was lead to the room with the built in table shower. This is my first time into this room. I was amazed that such big room existed in Manhattan. This is more luxurious than anywhere I seen. \n",
      "Yoyo came in with a see through pink nightie and I was instantly hard on. DFK, gave me BBBJ on the spot before leading me to the big TS. Lots of teasing P2P BBBJ DT. Helped to dry me before making our way to the bed. Very attentive.\n",
      "We started with mutual touching kissing and 69. She tastes wonderful and sweet. Looking at this pretty young girl makes me feel young especially through various angles via the surrounding mirrors. She is all natural.\n",
      "\n",
      "Finally popped in Mish after various positions. Gave me a relaxing massage followed by 2nd pop with BBBJ CIM and she works really hard for it.\n",
      "\n",
      "Overall a very satisfying session, definitely worth the ticket price.\n",
      "\n",
      "On the way out, saw Lucy and Ella. Really makes me thinking for a triple threat session.\n",
      "te processed review is:  ['easi', 'setup', 'appoint', 'ask', 'yoyo', 'vip', 'suit', 'standard', 'covid', 'check', 'lead', 'room', 'built', 'tabl', 'shower', 'first', 'time', 'room', 'amaz', 'big', 'room', 'exist', 'manhattan', 'luxuri', 'anywher', 'seen', 'yoyo', 'came', 'see', 'pink', 'nighti', 'instantli', 'hard', 'dfk', 'gave', 'bbbj', 'spot', 'lead', 'big', 'ts', 'lot', 'teas', 'p2p', 'bbbj', 'dt', 'help', 'dri', 'make', 'way', 'bed', 'attent', 'start', 'mutual', 'touch', 'kiss', '69', 'tast', 'wonder', 'sweet', 'look', 'pretti', 'young', 'girl', 'make', 'feel', 'young', 'especi', 'variou', 'angl', 'via', 'surround', 'mirror', 'natur', 'final', 'pop', 'mish', 'variou', 'posit', 'gave', 'relax', 'massag', 'follow', '2nd', 'pop', 'bbbj', 'cim', 'work', 'realli', 'hard', 'overal', 'satisfi', 'session', 'definit', 'worth', 'ticket', 'price', 'way', 'saw', 'luci', 'ella', 'realli', 'make', 'think', 'tripl', 'threat', 'session']\n",
      "0\t0.64998833\tb'easi setup appoint ask yoyo vip suit standard covid check lead room built tabl shower first time room amaz big room exist manhattan luxuri anywher seen yoyo came see pink nighti instantli hard dfk gave bbbj spot lead big ts lot teas p2p bbbj dt help dri make way bed attent start mutual touch kiss 69 tast wonder sweet look pretti young girl make feel young especi variou angl via surround mirror natur final pop mish variou posit gave relax massag follow 2nd pop bbbj cim work realli hard overal satisfi session definit worth ticket price way saw luci ella realli make think tripl threat session'\n",
      "the review is:  Stopped by to get a message and check this place out. It is kinda old and run down but I was feeling adventurous so I stopped in. I was greeted by a pretty Chinese woman and was escorted to a room. After getting ready, I laid on my stomach and Vikki asked if I want a medium or hard message. I went with a medium since I was a bit unsure and the last time I went to an AMP around here it was a horrible experience (message wise). Anyway her message skills were above average and she put on some classic rock which made the ambiance more my style. Her English was broken but we could communicate some. I wasn't sure if she would do anything extra so when I did the flip she keep the towel covering my junk. I waited for her hand to brush against me but that didn't happen. She did such a great job that I will return, I can always get a little something elsewhere, but mostly they do the jackhammer and give a horrible message. Since she was pleasant and has a pretty face,  I gave her a nice tip and smiled and thanked her. I will return and hope I get her again.\n",
      "te processed review is:  ['stop', 'get', 'messag', 'check', 'place', 'kinda', 'old', 'run', 'feel', 'adventur', 'stop', 'greet', 'pretti', 'chines', 'woman', 'escort', 'room', 'get', 'readi', 'laid', 'stomach', 'vikki', 'ask', 'want', 'medium', 'hard', 'messag', 'went', 'medium', 'sinc', 'bit', 'unsur', 'last', 'time', 'went', 'amp', 'around', 'horribl', 'experi', 'messag', 'wise', 'anyway', 'messag', 'skill', 'averag', 'put', 'classic', 'rock', 'made', 'ambianc', 'style', 'english', 'broken', 'could', 'commun', 'sure', 'would', 'anyth', 'extra', 'flip', 'keep', 'towel', 'cover', 'junk', 'wait', 'hand', 'brush', 'happen', 'great', 'job', 'return', 'alway', 'get', 'littl', 'someth', 'elsewher', 'mostli', 'jackhamm', 'give', 'horribl', 'messag', 'sinc', 'pleasant', 'pretti', 'face', 'gave', 'nice', 'tip', 'smile', 'thank', 'return', 'hope', 'get']\n",
      "0\t0.55872303\tb'stop get messag check place kinda old run feel adventur stop greet pretti chines woman escort room get readi laid stomach vikki ask want medium hard messag went medium sinc bit unsur last time went amp around horribl experi messag wise anyway messag skill averag put classic rock made ambianc style english broken could commun sure would anyth extra flip keep towel cover junk wait hand brush happen great job return alway get littl someth elsewher mostli jackhamm give horribl messag sinc pleasant pretti face gave nice tip smile thank return hope get'\n",
      "the review is:  I wasn't really sure if I was gonna get a hand job at this place or not, I had he impression but I hadn't been so I knew I was taking a shot there. I was able to get the session set up with Cherry, she was a decent looking Asian lady, she took me to the room after I paid for my time on the front, I got prepped for the rub with nothing but a towel on, she told me she was ready and she had a little bottle of lotion, she got some on my back and started rubbing it in deep, felt good, she had some decent training there and I liked how she handled those sore areas.\n",
      "\n",
      "When she was done with the back she asked me if I could flip over and I was ready to start feeling that hand around my cock, the thing is never happened, she wasn't doing anything else to me to her than the regular massage, granted it felt good it was not what I was looking for, when I asked her about she told me she couldn't do it, she didn't act grossed out or anything but she told me she didn't do that kinda thing, maybe she wants to see me a few more times in there before anything else, but I doubt I'll be back to find out.\n",
      "te processed review is:  ['realli', 'sure', 'gonna', 'get', 'hand', 'job', 'place', 'impress', 'knew', 'take', 'shot', 'abl', 'get', 'session', 'set', 'cherri', 'decent', 'look', 'asian', 'ladi', 'took', 'room', 'paid', 'time', 'front', 'got', 'prep', 'rub', 'noth', 'towel', 'told', 'readi', 'littl', 'bottl', 'lotion', 'got', 'back', 'start', 'rub', 'deep', 'felt', 'good', 'decent', 'train', 'like', 'handl', 'sore', 'area', 'done', 'back', 'ask', 'could', 'flip', 'readi', 'start', 'feel', 'hand', 'around', 'cock', 'thing', 'never', 'happen', 'anyth', 'els', 'regular', 'massag', 'grant', 'felt', 'good', 'look', 'ask', 'told', 'act', 'gross', 'anyth', 'told', 'kinda', 'thing', 'mayb', 'want', 'see', 'time', 'anyth', 'els', 'doubt', \"i'll\", 'back', 'find']\n",
      "0\t0.51893012\tb\"realli sure gonna get hand job place impress knew take shot abl get session set cherri decent look asian ladi took room paid time front got prep rub noth towel told readi littl bottl lotion got back start rub deep felt good decent train like handl sore area done back ask could flip readi start feel hand around cock thing never happen anyth els regular massag grant felt good look ask told act gross anyth told kinda thing mayb want see time anyth els doubt i'll back find\"\n",
      "the review is:  Paid the hour fare, and then went to the room with Coco, while nice to look at, she was somewhat mechanical with everything we did. First a mediocre massage, that I could honestly forgive, given the fact that I didn't show up for a massage. The CBJ involved using her hands way too much. Needless to say, this was a bit distracting and I was finding it more difficult than usual to become aroused, and of course, this frustrated her, and kept asking me why it wasn't getting hard. I said to take off the condom and suck on it without it and the problem will be solved. She refused to do that... I eventually got hard enough for me to stick it in and I suggested we move to K9 while we still had Jr's attention. The view from behind was nice, which helped a good deal to keep me hard. I entered and go into a nice grove so things progressed nicely. I stayed in this position until I was done, varying the intensity as I saw fit. Will I repeat with her? Well, I got what I came looking for, but her attitude was lacking, her skills were marginal and her actions were mechanical. I'm not opposed to seeing her again if no one else is around, but she's not going to be my first choice.\n",
      "te processed review is:  ['paid', 'hour', 'fare', 'went', 'room', 'coco', 'nice', 'look', 'somewhat', 'mechan', 'everyth', 'first', 'mediocr', 'massag', 'could', 'honestli', 'forgiv', 'given', 'fact', 'show', 'massag', 'cbj', 'involv', 'use', 'hand', 'way', 'much', 'needless', 'say', 'bit', 'distract', 'find', 'difficult', 'usual', 'becom', 'arous', 'cours', 'frustrat', 'kept', 'ask', 'get', 'hard', 'said', 'take', 'condom', 'suck', 'without', 'problem', 'solv', 'refus', '...', 'eventu', 'got', 'hard', 'enough', 'stick', 'suggest', 'move', 'k9', 'still', \"jr'\", 'attent', 'view', 'behind', 'nice', 'help', 'good', 'deal', 'keep', 'hard', 'enter', 'go', 'nice', 'grove', 'thing', 'progress', 'nice', 'stay', 'posit', 'done', 'vari', 'intens', 'saw', 'fit', 'repeat', 'well', 'got', 'came', 'look', 'attitud', 'lack', 'skill', 'margin', 'action', 'mechan', \"i'm\", 'oppos', 'see', 'one', 'els', 'around', 'go', 'first', 'choic']\n",
      "0\t0.55530113\tb\"paid hour fare went room coco nice look somewhat mechan everyth first mediocr massag could honestli forgiv given fact show massag cbj involv use hand way much needless say bit distract find difficult usual becom arous cours frustrat kept ask get hard said take condom suck without problem solv refus ... eventu got hard enough stick suggest move k9 still jr' attent view behind nice help good deal keep hard enter go nice grove thing progress nice stay posit done vari intens saw fit repeat well got came look attitud lack skill margin action mechan i'm oppos see one els around go first choic\"\n",
      "the review is:  I suggested the top come off. It went up but not off. Small but firm titties, with pointy nipples. I put my hand on her ass, and she said Touch Butt? I said yep, and down the pants went. She started a nice slow stroke of Jr, and I asked her for extras. She gave me the VIP treatment. \n",
      "\n",
      "Sucked my dick without a condom which was a surprise. Yuki was enjoying that shit and soon her pussy greeted my finger. After a bit she hop on top and fucked me in reverse CG and finished in doggy, no way i was pulling out. It felt really good.\n",
      "te processed review is:  ['suggest', 'top', 'come', 'went', 'small', 'firm', 'titti', 'pointi', 'nippl', 'put', 'hand', 'ass', 'said', 'touch', 'butt', 'said', 'yep', 'pant', 'went', 'start', 'nice', 'slow', 'stroke', 'jr', 'ask', 'extra', 'gave', 'vip', 'treatment', 'suck', 'dick', 'without', 'condom', 'surpris', 'yuki', 'enjoy', 'shit', 'soon', 'pussi', 'greet', 'finger', 'bit', 'hop', 'top', 'fuck', 'revers', 'cg', 'finish', 'doggi', 'way', 'pull', 'felt', 'realli', 'good']\n",
      "0\t0.66145009\tb'suggest top come went small firm titti pointi nippl put hand ass said touch butt said yep pant went start nice slow stroke jr ask extra gave vip treatment suck dick without condom surpris yuki enjoy shit soon pussi greet finger bit hop top fuck revers cg finish doggi way pull felt realli good'\n",
      "the review is:  She took the fee money for a 60 min session and I stripped and got on the table. Cici came back and gave a very decent massage. On the flip, asked what I wanted. Choose the FS for a good price, which ended up being covered but it's better to play safe.  Still, a nice change from the one in my hometown. Only real complaint was that she kept talking about how hot it was in the room and while it didn't bother me, she had a lot of sweat on her back while i was fucking her in doggy. Might come back. YMMV.\n",
      "te processed review is:  ['took', 'fee', 'money', '60', 'min', 'session', 'strip', 'got', 'tabl', 'cici', 'came', 'back', 'gave', 'decent', 'massag', 'flip', 'ask', 'want', 'choos', 'fs', 'good', 'price', 'end', 'cover', 'better', 'play', 'safe', 'still', 'nice', 'chang', 'one', 'hometown', 'real', 'complaint', 'kept', 'talk', 'hot', 'room', 'bother', 'lot', 'sweat', 'back', 'fuck', 'doggi', 'might', 'come', 'back', 'ymmv']\n",
      "0\t0.54962307\tb'took fee money 60 min session strip got tabl cici came back gave decent massag flip ask want choos fs good price end cover better play safe still nice chang one hometown real complaint kept talk hot room bother lot sweat back fuck doggi might come back ymmv'\n",
      "the review is:  Michelle just told me to go face down. She asked what pressure I wanted and I said soft. She did a soft massage with some teasing mixed in. Pretty good massage. Once she got down to the thighs I started to do the old reach under and adjust myself and so she started to tease more. It went from teasing to her reaching under and stroking Jr. She eventually put some paper towels under me like she was expecting to finish me off in that position, but I asked her if I could flip over. Michelle obliged and have a pretty good two hander. Despite the fact that she wouldn't fuck me like other girls in the past. I'm still a sucker for these ladies. YMMV.\n",
      "te processed review is:  ['michel', 'told', 'go', 'face', 'ask', 'pressur', 'want', 'said', 'soft', 'soft', 'massag', 'teas', 'mix', 'pretti', 'good', 'massag', 'got', 'thigh', 'start', 'old', 'reach', 'adjust', 'start', 'teas', 'went', 'teas', 'reach', 'stroke', 'jr', 'eventu', 'put', 'paper', 'towel', 'like', 'expect', 'finish', 'posit', 'ask', 'could', 'flip', 'michel', 'oblig', 'pretti', 'good', 'two', 'hander', 'despit', 'fact', 'fuck', 'like', 'girl', 'past', \"i'm\", 'still', 'sucker', 'ladi', 'ymmv']\n",
      "0\t0.51380230\tb\"michel told go face ask pressur want said soft soft massag teas mix pretti good massag got thigh start old reach adjust start teas went teas reach stroke jr eventu put paper towel like expect finish posit ask could flip michel oblig pretti good two hander despit fact fuck like girl past i'm still sucker ladi ymmv\"\n",
      "the review is:  Went to see Katie / called ahead and was told she was working.  Got there and paid, was taken too a room and a blond Asian girl came to my room and ask if I wanted aroma therapy.  I said no but would like o have a session with Katie and she said no one named Katie worked there.  I got my $$ back and left.\n",
      "te processed review is:  ['went', 'see', 'kati', 'call', 'ahead', 'told', 'work', 'got', 'paid', 'taken', 'room', 'blond', 'asian', 'girl', 'came', 'room', 'ask', 'want', 'aroma', 'therapi', 'said', 'would', 'like', 'session', 'kati', 'said', 'one', 'name', 'kati', 'work', 'got', 'back', 'left']\n",
      "0\t0.53148344\tb'went see kati call ahead told work got paid taken room blond asian girl came room ask want aroma therapi said would like session kati said one name kati work got back left'\n",
      "the review is:  Pretty standard massage. Anna kept going in and out of the room. On the flip she pointed at the little guy and I said sure. Negotiated standard tip for HJ and soon Anna let me know roaming  around her chest was ok as well as her ass, but she wasn’t very helpful in that regard as it was only outside. I’ve been here a couple times and I don’t think they offer anymore more than a HJ and otc it's such a shame...yet I go back every once in a while to see if that will change. It's a love hate thing.  I will continue searching for more options in the area. Any suggestions are welcomed\n",
      "te processed review is:  ['pretti', 'standard', 'massag', 'anna', 'kept', 'go', 'room', 'flip', 'point', 'littl', 'guy', 'said', 'sure', 'negoti', 'standard', 'tip', 'hj', 'soon', 'anna', 'let', 'know', 'roam', 'around', 'chest', 'ok', 'well', 'ass', '’', 'help', 'regard', 'outsid', '’', 'coupl', 'time', '’', 'think', 'offer', 'anymor', 'hj', 'otc', 'shame', '...', 'yet', 'go', 'back', 'everi', 'see', 'chang', 'love', 'hate', 'thing', 'continu', 'search', 'option', 'area', 'suggest', 'welcom']\n",
      "0\t0.51992997\tb'pretti standard massag anna kept go room flip point littl guy said sure negoti standard tip hj soon anna let know roam around chest ok well ass  help regard outsid  coupl time  think offer anymor hj otc shame ... yet go back everi see chang love hate thing continu search option area suggest welcom'\n",
      "the review is:  Lily came back in and started a mediocre massage, mostly involves reaching under and teasing the ass and boys. After the flip, she rubbed my chest for a few minutes before letting me take her dress down a bit to release the nice-sized b tits. She tried to rush while starting to take care of junior, but slowed down once I asked her, I'm paying so I better enjoy it. Cleaned me up after I finished and rubbed my feet a bit more. It was a pretty good sesh, maybe next time i might get 2 girls.\n",
      "te processed review is:  ['lili', 'came', 'back', 'start', 'mediocr', 'massag', 'mostli', 'involv', 'reach', 'teas', 'ass', 'boy', 'flip', 'rub', 'chest', 'minut', 'let', 'take', 'dress', 'bit', 'releas', 'nice-s', 'b', 'tit', 'tri', 'rush', 'start', 'take', 'care', 'junior', 'slow', 'ask', \"i'm\", 'pay', 'better', 'enjoy', 'clean', 'finish', 'rub', 'feet', 'bit', 'pretti', 'good', 'sesh', 'mayb', 'next', 'time', 'might', 'get', '2', 'girl']\n",
      "0\t0.59779988\tb\"lili came back start mediocr massag mostli involv reach teas ass boy flip rub chest minut let take dress bit releas nice-s b tit tri rush start take care junior slow ask i'm pay better enjoy clean finish rub feet bit pretti good sesh mayb next time might get 2 girl\"\n",
      "the review is:  Generally speaking, Eva is better than both Cindy and Michelle, so I'm more likely to choose Eva on a return visit than the other girls if I have a choice that is, sometimes they're busy and you get who they got. Her massage was unrushed, which is where Cindy fails, she's cute and all, but I can't do rush jobs. At the flip, Eva wanted 50 to finish me off. I thought of maybe holding my ground at 40, but said fuck it, first impressions can't be done over, and it was only 10 more, gave it to her and she polished off the scepter nicely.\n",
      "te processed review is:  ['gener', 'speak', 'eva', 'better', 'cindi', 'michel', \"i'm\", 'like', 'choos', 'eva', 'return', 'visit', 'girl', 'choic', 'sometim', \"they'r\", 'busi', 'get', 'got', 'massag', 'unrush', 'cindi', 'fail', 'cute', \"can't\", 'rush', 'job', 'flip', 'eva', 'want', '50', 'finish', 'thought', 'mayb', 'hold', 'ground', '40', 'said', 'fuck', 'first', 'impress', \"can't\", 'done', '10', 'gave', 'polish', 'scepter', 'nice']\n",
      "0\t0.51859057\tb\"gener speak eva better cindi michel i'm like choos eva return visit girl choic sometim they'r busi get got massag unrush cindi fail cute can't rush job flip eva want 50 finish thought mayb hold ground 40 said fuck first impress can't done 10 gave polish scepter nice\"\n",
      "the review is:  I stepped in and bam, another petite Asian cutie with a booty. I really couldn't believe my luck. Asked if she would be the one to do the massage and she said yes, we were in business. Grabbed her ass on the way to the room so she'd know I was down to get busy. She grabbed my dick back, so it was game on. No pretense of a massage, none, we dove right in. She had me lay down and then threw a raincoat over jimmy and then followed up with a really good BJ. I wanted to dine, but it was not an option. Took her in doggy then Mish where I got tired so I had her ride me to finish things off. Really tight, and very energetic, one lovely girl.\n",
      "te processed review is:  ['step', 'bam', 'anoth', 'petit', 'asian', 'cuti', 'booti', 'realli', 'believ', 'luck', 'ask', 'would', 'one', 'massag', 'said', 'ye', 'busi', 'grab', 'ass', 'way', 'room', \"she'd\", 'know', 'get', 'busi', 'grab', 'dick', 'back', 'game', 'pretens', 'massag', 'none', 'dove', 'right', 'lay', 'threw', 'raincoat', 'jimmi', 'follow', 'realli', 'good', 'bj', 'want', 'dine', 'option', 'took', 'doggi', 'mish', 'got', 'tire', 'ride', 'finish', 'thing', 'realli', 'tight', 'energet', 'one', 'love', 'girl']\n",
      "0\t0.53261277\tb\"step bam anoth petit asian cuti booti realli believ luck ask would one massag said ye busi grab ass way room she'd know get busi grab dick back game pretens massag none dove right lay threw raincoat jimmi follow realli good bj want dine option took doggi mish got tire ride finish thing realli tight energet one love girl\"\n",
      "the review is:  I decided to try this place. Coco was the only one there and she's not that hot, a bit thick, flat ass, not as young as other, all I wanted was a HJ so I went for it, we got back to the room it was a pretty weak massage. A few passes near the good stuff while on my back. \n",
      "\n",
      "On the flip she got close and I gave every indication that she should take it to the next level. But then she said, \"We don't do that, I get in trouble.\"\n",
      "\n",
      "If I had thought I had not reassured her that I was a safe bet I don't think she would have admitted that they \"did it\" before.\n",
      "\n",
      "Frustrating to say the least. Should have done some more research.\n",
      "te processed review is:  ['decid', 'tri', 'place', 'coco', 'one', 'hot', 'bit', 'thick', 'flat', 'ass', 'young', 'want', 'hj', 'went', 'got', 'back', 'room', 'pretti', 'weak', 'massag', 'pass', 'near', 'good', 'stuff', 'back', 'flip', 'got', 'close', 'gave', 'everi', 'indic', 'take', 'next', 'level', 'said', 'get', 'troubl', 'thought', 'reassur', 'safe', 'bet', 'think', 'would', 'admit', 'frustrat', 'say', 'least', 'done', 'research']\n",
      "0\t0.50472901\tb'decid tri place coco one hot bit thick flat ass young want hj went got back room pretti weak massag pass near good stuff back flip got close gave everi indic take next level said get troubl thought reassur safe bet think would admit frustrat say least done research'\n",
      "the review is:  The positives: always a gang of women to serve my needs. The negatives: can't think of any....maybe that they don't give HE's lol. Michelle is the one I usually like the best because she has stronger hands and doesn't seem to get tire out like the rest of em. I'm a big dude, so I need a woman to really put in work if I want to feel better. Got the hour, wasn't disappointed, tip her out and left feeling great for the day.\n",
      "te processed review is:  ['posit', 'alway', 'gang', 'women', 'serv', 'need', 'neg', \"can't\", 'think', '...', 'mayb', 'give', \"he'\", 'lol', 'michel', 'one', 'usual', 'like', 'best', 'stronger', 'hand', 'seem', 'get', 'tire', 'like', 'rest', 'em', \"i'm\", 'big', 'dude', 'need', 'woman', 'realli', 'put', 'work', 'want', 'feel', 'better', 'got', 'hour', 'disappoint', 'tip', 'left', 'feel', 'great', 'day']\n",
      "0\t0.53126756\tb\"posit alway gang women serv need neg can't think ... mayb give he' lol michel one usual like best stronger hand seem get tire like rest em i'm big dude need woman realli put work want feel better got hour disappoint tip left feel great day\"\n",
      "the review is:  Lily tucks the bottom of her dress up along her belly and out through her cleavage, something like the starting knot of a tie. Then she pulls the entire dress it down so that it's around her midsection exposing tits and hooha. Panties go down. She'd done this before.\n",
      "\n",
      "Lily massages my back, flips me over and goes to my cock, i tell her not to go so fast and tell her to massage my legs. She agrees and lasts 10 minutes on my legs and i am fully hard. Now it's time to fuck. We negotiated for a bit and settled on a decent ammount. \n",
      "\n",
      "I put the rubber on my cock, she licks my nuts then allows me to deep throat her by pushing her head (gently) on my cock. She loves that shit, the rest was spent on doggy. All in all a great sesh!\n",
      "te processed review is:  ['lili', 'tuck', 'bottom', 'dress', 'along', 'belli', 'cleavag', 'someth', 'like', 'start', 'knot', 'tie', 'pull', 'entir', 'dress', 'around', 'midsect', 'expos', 'tit', 'hooha', 'panti', 'go', \"she'd\", 'done', 'lili', 'massag', 'back', 'flip', 'goe', 'cock', 'tell', 'go', 'fast', 'tell', 'massag', 'leg', 'agre', 'last', '10', 'minut', 'leg', 'fulli', 'hard', 'time', 'fuck', 'negoti', 'bit', 'settl', 'decent', 'ammount', 'put', 'rubber', 'cock', 'lick', 'nut', 'allow', 'deep', 'throat', 'push', 'head', 'gentli', 'cock', 'love', 'shit', 'rest', 'spent', 'doggi', 'great', 'sesh']\n",
      "0\t0.57864782\tb\"lili tuck bottom dress along belli cleavag someth like start knot tie pull entir dress around midsect expos tit hooha panti go she'd done lili massag back flip goe cock tell go fast tell massag leg agre last 10 minut leg fulli hard time fuck negoti bit settl decent ammount put rubber cock lick nut allow deep throat push head gentli cock love shit rest spent doggi great sesh\"\n",
      "the review is:  i had seen this lady before in wytheville\n",
      "short alittle frumpy and balding\n",
      "really rough hands maybe she lays brick on the side\n",
      "its a nice set up clean and so on\n",
      "you have to ring a door bell to get in so your standing outside waiting if she was busy i dont no how that works the good about that you know the front doors locked while your there\n",
      "HJ was offered i declined\n",
      "te processed review is:  ['seen', 'ladi', 'wythevil', 'short', 'alittl', 'frumpi', 'bald', 'realli', 'rough', 'hand', 'mayb', 'lay', 'brick', 'side', 'nice', 'set', 'clean', 'ring', 'door', 'bell', 'get', 'stand', 'outsid', 'wait', 'busi', 'dont', 'work', 'good', 'know', 'front', 'door', 'lock', 'hj', 'offer', 'declin']\n",
      "0\t0.52601909\tb'seen ladi wythevil short alittl frumpi bald realli rough hand mayb lay brick side nice set clean ring door bell get stand outsid wait busi dont work good know front door lock hj offer declin'\n",
      "the review is:  Decent body for an AMP girl. Decent B’s and a small ass. Angela's FBSM was excellent. Really worked my areas that needed it. Never staying in one spot too long. I like this... some AMP girls concentrate on one area for too long and I get bored. Anyway, a light teasing came by in the way of 'accidental' brushing of the goods. It was enough to wake up JR. Hot towel and the flip... here we go. In not so good English she asked “no trouble?” I assured her no and she went to work. Nice hand twisting with one hand and fondling of my balls with the other felt great. She would occasionally tickle the backdoor and ever so slightly circle it with her finger. She would allow a little touching over the clothes but nothing more. I didn’t mind she was doing just fine with her techniques. The pop and the cleanup and I was on my way.\n",
      "te processed review is:  ['decent', 'bodi', 'amp', 'girl', 'decent', 'b', '’', 'small', 'ass', \"angela'\", 'fbsm', 'excel', 'realli', 'work', 'area', 'need', 'never', 'stay', 'one', 'spot', 'long', 'like', '...', 'amp', 'girl', 'concentr', 'one', 'area', 'long', 'get', 'bore', 'anyway', 'light', 'teas', 'came', 'way', 'accident', 'brush', 'good', 'enough', 'wake', 'jr', 'hot', 'towel', 'flip', '...', 'go', 'good', 'english', 'ask', '“', 'troubl', '”', 'assur', 'went', 'work', 'nice', 'hand', 'twist', 'one', 'hand', 'fondl', 'ball', 'felt', 'great', 'would', 'occasion', 'tickl', 'backdoor', 'ever', 'slightli', 'circl', 'finger', 'would', 'allow', 'littl', 'touch', 'cloth', 'noth', '’', 'mind', 'fine', 'techniqu', 'pop', 'cleanup', 'way']\n",
      "0\t0.53745635\tb\"decent bodi amp girl decent b  small ass angela' fbsm excel realli work area need never stay one spot long like ... amp girl concentr one area long get bore anyway light teas came way accident brush good enough wake jr hot towel flip ... go good english ask  troubl  assur went work nice hand twist one hand fondl ball felt great would occasion tickl backdoor ever slightli circl finger would allow littl touch cloth noth  mind fine techniqu pop cleanup way\"\n",
      "the review is:  Was checking out her ass as I walk behind her while she leads me into a room. I was told to wait about 15-20 mins for April because her previous appointment showed up late. No big deal, since I wasn't in any rush.\n",
      "\n",
      "Waited for about 25 mins, and April finally came in. The massage was pretty good, I liked it. She did put in the effort. About 20 mins in, she started the teasing and got me rock hard before telling me to flip. She offered a HJ, I tried to get a BJ, but she said no. \n",
      "\n",
      "I asked her to take off her clothes and she agreed, with no mention of tip whatsoever. I ask for her age and she told me to guess. I ask her to take off the mask so I can see, and she took it off and immediately put it back on. I guessed 32, but she said she was 30; I'm not sure if I believe that. lol\n",
      "te processed review is:  ['check', 'ass', 'walk', 'behind', 'lead', 'room', 'told', 'wait', '15-20', 'min', 'april', 'previou', 'appoint', 'show', 'late', 'big', 'deal', 'sinc', 'rush', 'wait', '25', 'min', 'april', 'final', 'came', 'massag', 'pretti', 'good', 'like', 'put', 'effort', '20', 'min', 'start', 'teas', 'got', 'rock', 'hard', 'tell', 'flip', 'offer', 'hj', 'tri', 'get', 'bj', 'said', 'ask', 'take', 'cloth', 'agre', 'mention', 'tip', 'whatsoev', 'ask', 'age', 'told', 'guess', 'ask', 'take', 'mask', 'see', 'took', 'immedi', 'put', 'back', 'guess', '32', 'said', '30', \"i'm\", 'sure', 'believ', 'lol']\n",
      "0\t0.56155812\tb\"check ass walk behind lead room told wait 15-20 min april previou appoint show late big deal sinc rush wait 25 min april final came massag pretti good like put effort 20 min start teas got rock hard tell flip offer hj tri get bj said ask take cloth agre mention tip whatsoev ask age told guess ask take mask see took immedi put back guess 32 said 30 i'm sure believ lol\"\n",
      "the review is:  Not short but not tall, pretty in the face when she took the mask off in the room, nice smile, nice facial features, nice makeup, slender and shapely, nice firm top that I thought were aftermarkets but they're real. Strong looking legs, booty was solid and more than enough to squeeze. \n",
      "\n",
      "I asked for an hour and she led me to a room. Everything smelled good, not like bleach and not like a perfume counter. Nice music. Was waiting for a minute so I checked my phone time and made sure it was silenced. Kim came back in while I was turned around and smacked my butt and laughed while she pointed to the table. I laid back down and the towel of doom comes out so I figured it might not be as good as it appears to be. However, she started to rub herself on me so much that it gave me hope. Grazing of the guys and then she asked me to turn over. She took off the towel and her eyes immediately shot to jr and she pointed. I said, be my guest and she lubed him up and went to work. \n",
      "\n",
      "She wound up between my legs, doing a simulated BJ. It was a nice HJ, not mechanical, and didn't speed through it. She would even reach up and give my nipple an occasional pinch. After she was done, we had time left over so she did my chest, shoulders arms, and belly. Tipped her on the way out and she asked me to come back the next day. I told her I was busy but would be back as soon as my schedule allowed.\n",
      "te processed review is:  ['short', 'tall', 'pretti', 'face', 'took', 'mask', 'room', 'nice', 'smile', 'nice', 'facial', 'featur', 'nice', 'makeup', 'slender', 'shape', 'nice', 'firm', 'top', 'thought', 'aftermarket', \"they'r\", 'real', 'strong', 'look', 'leg', 'booti', 'solid', 'enough', 'squeez', 'ask', 'hour', 'led', 'room', 'everyth', 'smell', 'good', 'like', 'bleach', 'like', 'perfum', 'counter', 'nice', 'music', 'wait', 'minut', 'check', 'phone', 'time', 'made', 'sure', 'silenc', 'kim', 'came', 'back', 'turn', 'around', 'smack', 'butt', 'laugh', 'point', 'tabl', 'laid', 'back', 'towel', 'doom', 'come', 'figur', 'might', 'good', 'appear', 'howev', 'start', 'rub', 'much', 'gave', 'hope', 'graze', 'guy', 'ask', 'turn', 'took', 'towel', 'eye', 'immedi', 'shot', 'jr', 'point', 'said', 'guest', 'lube', 'went', 'work', 'wound', 'leg', 'simul', 'bj', 'nice', 'hj', 'mechan', 'speed', 'would', 'even', 'reach', 'give', 'nippl', 'occasion', 'pinch', 'done', 'time', 'left', 'chest', 'shoulder', 'arm', 'belli', 'tip', 'way', 'ask', 'come', 'back', 'next', 'day', 'told', 'busi', 'would', 'back', 'soon', 'schedul', 'allow']\n",
      "0\t0.65630175\tb\"short tall pretti face took mask room nice smile nice facial featur nice makeup slender shape nice firm top thought aftermarket they'r real strong look leg booti solid enough squeez ask hour led room everyth smell good like bleach like perfum counter nice music wait minut check phone time made sure silenc kim came back turn around smack butt laugh point tabl laid back towel doom come figur might good appear howev start rub much gave hope graze guy ask turn took towel eye immedi shot jr point said guest lube went work wound leg simul bj nice hj mechan speed would even reach give nippl occasion pinch done time left chest shoulder arm belli tip way ask come back next day told busi would back soon schedul allow\"\n",
      "the review is:  All Cindy had was 30 minutes available. Got in, dropped $40 for a $30 -30in massage (never got $10 back - red flag #1) got comfortabl then got a quick 10 minute massage on the back of the legs back of the arms and neck and right to the flip.  During the back portion, Cindy would reach around and under to let me know that the sensual portion was on the table.\n",
      "\n",
      "On the flip, she oiled up junior [no front massage at M all], i reached up for a little breast play, and then said she needed the additional donation. I gave $60, and she told me $100 for \"touch me\". I said i think $60 is all I had. She left for a moment, and I decided to drop the other $40.\n",
      "\n",
      "When she returned, i told her i found that little more in my other pocket. She saw the other $40 and went ahead and lifted the top and bra to reveal super cute little perky BS with cute little nipples. But the pants and bottom stayed on (red flag #2). After 5 .inutes of waxing the flagpole (no front massage), another client enters the facility and she apologizes, pulls down the bra and top, wipes the hands, and goes out to get that person situated (red flag #3).  At this point, I'm just looking to finish get dressed and get going.\n",
      "\n",
      "She comes back in, apologizes once again for it being busy, lifts the bra and top, and pulls the yoga pants and panties down to the knees allowing FOV access to a shaved, but stubbly downtown.\n",
      "\n",
      "I spend a little time uptown, then head downtown and do my best to find the button to elicit some kind of FOV sensual response from her. She is focused on 8 minutes of high velocity Pole waxing, and I  I'm getting nowhere in creating any heat or moisture downtown. I go back uptown which helps me release. She cleans me up a little, but I hate when they just spread the release around the groin and belly vs wiping up and off, so I finish the clean up myself. Get dressed, and head out.\n",
      "\n",
      "Can't say I will be back to see Cindy.  Have had much better actual massage and release combos for less $.\n",
      "\n",
      "Stay safe out there!\n",
      "\n",
      "TheCEO\n",
      "te processed review is:  ['cindi', '30', 'minut', 'avail', 'got', 'drop', '30in', 'massag', 'never', 'got', 'back', 'red', 'flag', '1', 'got', 'comfortabl', 'got', 'quick', '10', 'minut', 'massag', 'back', 'leg', 'back', 'arm', 'neck', 'right', 'flip', 'back', 'portion', 'cindi', 'would', 'reach', 'around', 'let', 'know', 'sensual', 'portion', 'tabl', 'flip', 'oil', 'junior', 'front', 'massag', 'reach', 'littl', 'breast', 'play', 'said', 'need', 'addit', 'donat', 'gave', 'told', 'touch', 'said', 'think', 'left', 'moment', 'decid', 'drop', 'return', 'told', 'found', 'littl', 'pocket', 'saw', 'went', 'ahead', 'lift', 'top', 'bra', 'reveal', 'super', 'cute', 'littl', 'perki', 'bs', 'cute', 'littl', 'nippl', 'pant', 'bottom', 'stay', 'red', 'flag', '2', '5', 'inut', 'wax', 'flagpol', 'front', 'massag', 'anoth', 'client', 'enter', 'facil', 'apolog', 'pull', 'bra', 'top', 'wipe', 'hand', 'goe', 'get', 'person', 'situat', 'red', 'flag', '3', 'point', \"i'm\", 'look', 'finish', 'get', 'dress', 'get', 'go', 'come', 'back', 'apolog', 'busi', 'lift', 'bra', 'top', 'pull', 'yoga', 'pant', 'panti', 'knee', 'allow', 'fov', 'access', 'shave', 'stubbl', 'downtown', 'spend', 'littl', 'time', 'uptown', 'head', 'downtown', 'best', 'find', 'button', 'elicit', 'kind', 'fov', 'sensual', 'respons', 'focus', '8', 'minut', 'high', 'veloc', 'pole', 'wax', \"i'm\", 'get', 'nowher', 'creat', 'heat', 'moistur', 'downtown', 'go', 'back', 'uptown', 'help', 'releas', 'clean', 'littl', 'hate', 'spread', 'releas', 'around', 'groin', 'belli', 'vs', 'wipe', 'finish', 'clean', 'get', 'dress', 'head', \"can't\", 'say', 'back', 'see', 'cindi', 'much', 'better', 'actual', 'massag', 'releas', 'combo', 'less', 'stay', 'safe', 'theceo']\n",
      "0\t0.52959723\tb\"cindi 30 minut avail got drop 30in massag never got back red flag 1 got comfortabl got quick 10 minut massag back leg back arm neck right flip back portion cindi would reach around let know sensual portion tabl flip oil junior front massag reach littl breast play said need addit donat gave told touch said think left moment decid drop return told found littl pocket saw went ahead lift top bra reveal super cute littl perki bs cute littl nippl pant bottom stay red flag 2 5 inut wax flagpol front massag anoth client enter facil apolog pull bra top wipe hand goe get person situat red flag 3 point i'm look finish get dress get go come back apolog busi lift bra top pull yoga pant panti knee allow fov access shave stubbl downtown spend littl time uptown head downtown best find button elicit kind fov sensual respons focus 8 minut high veloc pole wax i'm get nowher creat heat moistur downtown go back uptown help releas clean littl hate spread releas around groin belli vs wipe finish clean get dress head can't say back see cindi much better actual massag releas combo less stay safe theceo\"\n",
      "the review is:  I saw the monger leave and they called me back. Susan told me she was ready for me. I entered and greet her with a hug. She apologized for taking long but she told me she's understaff and she's only taking appointments today. I guess i didn't get the memo. She locked the door and asked me to go to the room. She put her phone on silence and followed me to the room. Pretty good massage on the back, legs, and glutes. Flip time came, decent on this side and there was a lot of brushing on the package which drew him to attention. I asked for some help there and she said no, you do it. I gave up and told her that's fine. I didn't make a fuzz out of it, but a heads-up would've been nice.\n",
      "te processed review is:  ['saw', 'monger', 'leav', 'call', 'back', 'susan', 'told', 'readi', 'enter', 'greet', 'hug', 'apolog', 'take', 'long', 'told', 'understaff', 'take', 'appoint', 'today', 'guess', 'get', 'memo', 'lock', 'door', 'ask', 'go', 'room', 'put', 'phone', 'silenc', 'follow', 'room', 'pretti', 'good', 'massag', 'back', 'leg', 'glute', 'flip', 'time', 'came', 'decent', 'side', 'lot', 'brush', 'packag', 'drew', 'attent', 'ask', 'help', 'said', 'gave', 'told', \"that'\", 'fine', 'make', 'fuzz', 'heads-up', \"would'v\", 'nice']\n",
      "0\t0.52051147\tb\"saw monger leav call back susan told readi enter greet hug apolog take long told understaff take appoint today guess get memo lock door ask go room put phone silenc follow room pretti good massag back leg glute flip time came decent side lot brush packag drew attent ask help said gave told that' fine make fuzz heads-up would'v nice\"\n",
      "the review is:  Penny is petite, cute, middle-aged Japanese lady.  Great body and very friendly and accommodating.  Started-off with massage and cream.  She seemed a little tired, and not really into it.  We chatted a bit, and she teased a little by brushing up against the package while doing legs.  On the flip, she asked what I wanted, and I negotiated the total package for what I thought was a fair price.  \n",
      "\n",
      "She got naked and got on the table, where I proceeded lick her trimmed pussy.  She got off the table, got on her knees and went down on me for a few minutes before putting on condom.  After that, put on condom and I rode her Mish until I came.  She has perfect little body with gorgeous natural tear-drop B+'s or C's.  \n",
      "\n",
      "All-up, great session with lovely Penny, highly recommend. \n",
      "D.D.\n",
      "te processed review is:  ['penni', 'petit', 'cute', 'middle-ag', 'japanes', 'ladi', 'great', 'bodi', 'friendli', 'accommod', 'started-off', 'massag', 'cream', 'seem', 'littl', 'tire', 'realli', 'chat', 'bit', 'teas', 'littl', 'brush', 'packag', 'leg', 'flip', 'ask', 'want', 'negoti', 'total', 'packag', 'thought', 'fair', 'price', 'got', 'nake', 'got', 'tabl', 'proceed', 'lick', 'trim', 'pussi', 'got', 'tabl', 'got', 'knee', 'went', 'minut', 'put', 'condom', 'put', 'condom', 'rode', 'mish', 'came', 'perfect', 'littl', 'bodi', 'gorgeou', 'natur', 'tear-drop', 'b', \"c'\", 'all-up', 'great', 'session', 'love', 'penni', 'highli', 'recommend']\n",
      "0\t0.61898691\tb\"penni petit cute middle-ag japanes ladi great bodi friendli accommod started-off massag cream seem littl tire realli chat bit teas littl brush packag leg flip ask want negoti total packag thought fair price got nake got tabl proceed lick trim pussi got tabl got knee went minut put condom put condom rode mish came perfect littl bodi gorgeou natur tear-drop b c' all-up great session love penni highli recommend\"\n",
      "the review is:  She smelled like my ex, not sure if she was wearing chanel perfume but damn it smelled just like her. We talk a bit to get to know each other. But she wasnt talking that much...She massaged with hard presses and tight squeezes to the shoulders. She wasn't chatty but as I said her English was limited but she did respond when I asked her to do something harder or softer. Soon I was on my back with Lisa hovering above me. Her HJ was average at best with just her stroking my dick with one hand while the other rubbed my stomach and chest. I got to feel on her tits and her soft ass until I came.\n",
      "te processed review is:  ['smell', 'like', 'ex', 'sure', 'wear', 'chanel', 'perfum', 'damn', 'smell', 'like', 'talk', 'bit', 'get', 'know', 'wasnt', 'talk', 'much', '...', 'massag', 'hard', 'press', 'tight', 'squeez', 'shoulder', 'chatti', 'said', 'english', 'limit', 'respond', 'ask', 'someth', 'harder', 'softer', 'soon', 'back', 'lisa', 'hover', 'hj', 'averag', 'best', 'stroke', 'dick', 'one', 'hand', 'rub', 'stomach', 'chest', 'got', 'feel', 'tit', 'soft', 'ass', 'came']\n",
      "0\t0.51731821\tb'smell like ex sure wear chanel perfum damn smell like talk bit get know wasnt talk much ... massag hard press tight squeez shoulder chatti said english limit respond ask someth harder softer soon back lisa hover hj averag best stroke dick one hand rub stomach chest got feel tit soft ass came'\n",
      "the review is:  Popped in late after work paid $40 for a half hour. MMS was provider and only person in the building. She was probably around 5’5 or 5’6 thin and I’d guess mid late 30s but you know how Asian women age. She had on yoga pants and a tank top. Massage was essentially a tracing of her hands on my back, not a whole lot of teasing going on but a little bit. Flip and she asked what I wanted. She said 140 for FS I only had 120, she accepted. Undressed got me started with her hands and let me touch wherever I wanted and the cap went on. She started in Mish with her knees to her chest. She’s super tight so I wasn’t gonna last. Asked for doggy and I wish I didn’t because her ass was super flat. Finished in the bag and went upon my way. Not a bad time, nothing mind blowing either\n",
      "te processed review is:  ['pop', 'late', 'work', 'paid', 'half', 'hour', 'mm', 'provid', 'person', 'build', 'probabl', 'around', '5', '’', '5', '5', '’', '6', 'thin', '’', 'guess', 'mid', 'late', '30', 'know', 'asian', 'women', 'age', 'yoga', 'pant', 'tank', 'top', 'massag', 'essenti', 'trace', 'hand', 'back', 'whole', 'lot', 'teas', 'go', 'littl', 'bit', 'flip', 'ask', 'want', 'said', '140', 'fs', '120', 'accept', 'undress', 'got', 'start', 'hand', 'let', 'touch', 'wherev', 'want', 'cap', 'went', 'start', 'mish', 'knee', 'chest', '’', 'super', 'tight', '’', 'gonna', 'last', 'ask', 'doggi', 'wish', '’', 'ass', 'super', 'flat', 'finish', 'bag', 'went', 'upon', 'way', 'bad', 'time', 'noth', 'mind', 'blow', 'either']\n",
      "0\t0.65692381\tb'pop late work paid half hour mm provid person build probabl around 5  5 5  6 thin  guess mid late 30 know asian women age yoga pant tank top massag essenti trace hand back whole lot teas go littl bit flip ask want said 140 fs 120 accept undress got start hand let touch wherev want cap went start mish knee chest  super tight  gonna last ask doggi wish  ass super flat finish bag went upon way bad time noth mind blow either'\n",
      "the review is:  I called for an apt only to get there and be greeted with a locked door and had to call again.Massage was pretty bad,only going through the motions, what was even worse was her breath. Bring mints or mouth wash and keep your distance.  She is also rough looking. If you're looking for attractive or sweet looking, not the one\n",
      "te processed review is:  ['call', 'apt', 'get', 'greet', 'lock', 'door', 'call', 'again.massag', 'pretti', 'bad', 'go', 'motion', 'even', 'wors', 'breath', 'bring', 'mint', 'mouth', 'wash', 'keep', 'distanc', 'also', 'rough', 'look', 'look', 'attract', 'sweet', 'look', 'one']\n",
      "0\t0.50541587\tb'call apt get greet lock door call again.massag pretti bad go motion even wors breath bring mint mouth wash keep distanc also rough look look attract sweet look one'\n",
      "the review is:  Had a session with Lulu. Very friendly lady. No table shower but great activity from a naked Lulu in the stand up shower. Back to the room for a strong massage. Professional message skills. Full hour session. Amazing ST with a cat bath on my back, ass and boys. On the flip for an incredible BBBJ with DT action. Finished with CIM. She tried to swallow but could not take it all. Will definitely return as soon as possible.\n",
      "te processed review is:  ['session', 'lulu', 'friendli', 'ladi', 'tabl', 'shower', 'great', 'activ', 'nake', 'lulu', 'stand', 'shower', 'back', 'room', 'strong', 'massag', 'profession', 'messag', 'skill', 'full', 'hour', 'session', 'amaz', 'st', 'cat', 'bath', 'back', 'ass', 'boy', 'flip', 'incred', 'bbbj', 'dt', 'action', 'finish', 'cim', 'tri', 'swallow', 'could', 'take', 'definit', 'return', 'soon', 'possibl']\n",
      "0\t0.52839199\tb'session lulu friendli ladi tabl shower great activ nake lulu stand shower back room strong massag profession messag skill full hour session amaz st cat bath back ass boy flip incred bbbj dt action finish cim tri swallow could take definit return soon possibl'\n",
      "the review is:  Weekends are best.  The parking lot is empty.  The parking is in a professional business complex.  Up the stairs, the door is usually locked, but they answer readily and happy to see you.  Never had a issue over money, the rate is normal, the extra are negotiable with the AMP. \n",
      "I think she was more excited to F than me.  After 15 minutes of me rubbing her ass, i could feel her wetness. I asked if she was ready, she replied with a eager yes and nod.  She went for the protection before I could start taking off the rest of her clothes and I was fully erect.  She got some special oil and we were off to the races.  She was dripping wet before I got near her pussy and when I slammed it home she tightened up and moaned.  Soon I got a rhythm and she was making the table wet.  I couldn’t last as long as I wanted and she was definitely disappointed when I came.  She wanted another session but I wasn’t into it.  She had a lot of stretch marks and scars on her stomach.  Maybe next time I will go for two.\n",
      "te processed review is:  ['weekend', 'best', 'park', 'lot', 'empti', 'park', 'profession', 'busi', 'complex', 'stair', 'door', 'usual', 'lock', 'answer', 'readili', 'happi', 'see', 'never', 'issu', 'money', 'rate', 'normal', 'extra', 'negoti', 'amp', 'think', 'excit', 'f', '15', 'minut', 'rub', 'ass', 'could', 'feel', 'wet', 'ask', 'readi', 'repli', 'eager', 'ye', 'nod', 'went', 'protect', 'could', 'start', 'take', 'rest', 'cloth', 'fulli', 'erect', 'got', 'special', 'oil', 'race', 'drip', 'wet', 'got', 'near', 'pussi', 'slam', 'home', 'tighten', 'moan', 'soon', 'got', 'rhythm', 'make', 'tabl', 'wet', '’', 'last', 'long', 'want', 'definit', 'disappoint', 'came', 'want', 'anoth', 'session', '’', 'lot', 'stretch', 'mark', 'scar', 'stomach', 'mayb', 'next', 'time', 'go', 'two']\n",
      "0\t0.66210830\tb'weekend best park lot empti park profession busi complex stair door usual lock answer readili happi see never issu money rate normal extra negoti amp think excit f 15 minut rub ass could feel wet ask readi repli eager ye nod went protect could start take rest cloth fulli erect got special oil race drip wet got near pussi slam home tighten moan soon got rhythm make tabl wet  last long want definit disappoint came want anoth session  lot stretch mark scar stomach mayb next time go two'\n",
      "the review is:  Coco is rather pretty and very petite. She has a wonderful personality and speaks decent english. Started with a lackluster massage and I thought I was wasting my money.  However things changed in a hurry once she started with the st.  She gave me a full cat bath with an amazing rim job. She likes 69 and we did that until I almost CIM.  Stopped to catch my breath and then she gave a great BBBJ on her knees. She put the cover on and enjoyed a K9 ride to finish. Will definitely repeat if Coco stays around.\n",
      "te processed review is:  ['coco', 'rather', 'pretti', 'petit', 'wonder', 'person', 'speak', 'decent', 'english', 'start', 'lacklust', 'massag', 'thought', 'wast', 'money', 'howev', 'thing', 'chang', 'hurri', 'start', 'st', 'gave', 'full', 'cat', 'bath', 'amaz', 'rim', 'job', 'like', '69', 'almost', 'cim', 'stop', 'catch', 'breath', 'gave', 'great', 'bbbj', 'knee', 'put', 'cover', 'enjoy', 'k9', 'ride', 'finish', 'definit', 'repeat', 'coco', 'stay', 'around']\n",
      "0\t0.58404917\tb'coco rather pretti petit wonder person speak decent english start lacklust massag thought wast money howev thing chang hurri start st gave full cat bath amaz rim job like 69 almost cim stop catch breath gave great bbbj knee put cover enjoy k9 ride finish definit repeat coco stay around'\n",
      "the review is:  Second time I've seen this girl. Sweet as can be. Gorgeous spinner type. First time got HJ and breast play. Not much more this time, still feeling her out. Had a wonderful leg massage before getting the HJ. She tugged very well. Got hot towel and cleaned up. She really enjoyed the cleaning. took her awhile and kept staring at my rod. I think she really likes that. While she was massaging me I was feeling her ass and titties and eventually lifted her shirt and sports bra. What a nice set of little boobs and eraser nips. I was feeling her butt and pussy too thru her pants and felt extra material in there. When I reached for her zipper she said Period. I think a little more money and a couple weeks to clear up she will do FS. Can't wait until next visit.\n",
      "te processed review is:  ['second', 'time', \"i'v\", 'seen', 'girl', 'sweet', 'gorgeou', 'spinner', 'type', 'first', 'time', 'got', 'hj', 'breast', 'play', 'much', 'time', 'still', 'feel', 'wonder', 'leg', 'massag', 'get', 'hj', 'tug', 'well', 'got', 'hot', 'towel', 'clean', 'realli', 'enjoy', 'clean', 'took', 'awhil', 'kept', 'stare', 'rod', 'think', 'realli', 'like', 'massag', 'feel', 'ass', 'titti', 'eventu', 'lift', 'shirt', 'sport', 'bra', 'nice', 'set', 'littl', 'boob', 'eras', 'nip', 'feel', 'butt', 'pussi', 'thru', 'pant', 'felt', 'extra', 'materi', 'reach', 'zipper', 'said', 'period', 'think', 'littl', 'money', 'coupl', 'week', 'clear', 'fs', \"can't\", 'wait', 'next', 'visit']\n",
      "0\t0.55320951\tb\"second time i'v seen girl sweet gorgeou spinner type first time got hj breast play much time still feel wonder leg massag get hj tug well got hot towel clean realli enjoy clean took awhil kept stare rod think realli like massag feel ass titti eventu lift shirt sport bra nice set littl boob eras nip feel butt pussi thru pant felt extra materi reach zipper said period think littl money coupl week clear fs can't wait next visit\"\n",
      "the review is:  Walked in Friday, mid-morn; greeted by Anna; Asked her who was working. She says \"me\". A bit older but she was decent-looking. Why not?\n",
      "\n",
      "In the room, I put the tip on the counter and got comfortable. She comes in all bubbly, goes to the counter and counts it, she smiles and takes the top off without me asking. She gave a good rubdown, the feeling was good, but I could tell she was looking forward to the flip. She has me lay down and gives a perfect HJ, great grip with a moderate pace that slowly built up all the way to the climax, did not mind the mess and cleaned slowly as we chatted a bit.\n",
      "te processed review is:  ['walk', 'friday', 'mid-morn', 'greet', 'anna', 'ask', 'work', 'say', 'bit', 'older', 'decent-look', 'room', 'put', 'tip', 'counter', 'got', 'comfort', 'come', 'bubbl', 'goe', 'counter', 'count', 'smile', 'take', 'top', 'without', 'ask', 'gave', 'good', 'rubdown', 'feel', 'good', 'could', 'tell', 'look', 'forward', 'flip', 'lay', 'give', 'perfect', 'hj', 'great', 'grip', 'moder', 'pace', 'slowli', 'built', 'way', 'climax', 'mind', 'mess', 'clean', 'slowli', 'chat', 'bit']\n",
      "0\t0.56709251\tb'walk friday mid-morn greet anna ask work say bit older decent-look room put tip counter got comfort come bubbl goe counter count smile take top without ask gave good rubdown feel good could tell look forward flip lay give perfect hj great grip moder pace slowli built way climax mind mess clean slowli chat bit'\n",
      "the review is:  This woman looked not a day under 48 and her makeup was caked like someone trying to repair a hole in the sheet rock. She leads me to a room and I see another woman going into another room  she’s a little younger yet relatively old,  3/10 in looks. Seeing those dudes in that car was pretty seedy and that must in the air was thick. They both had masks on had they lowered them it would have made the already unpleasant experience more seamy. \n",
      "\n",
      "She turns on the lights and asks if I want massage. Before I walked in I let my nut cook for the entirety of the week I was so horney  and no coochie had me wildin I almost picked up some big booty asain a street walker on California street but I didn’t have rubbers on me and the stores didn’t break 100s it must have been a sign. \n",
      "\n",
      "I took one look and her Meta communication was that of a demanding person i wasn’t feeling it anymore. I looked at her dress and I seen that one piece hanging out to dry between that tax place, now that we got those superman  roaches that fly my mind went up shit creek. I just walked out the door and she tried to hold the door saying money money money accent  heavy on the rice. I told her I was getting my wallet no money and she seen the folded 20s I had in my hand and tried to take it. Fuck that shit, I got the hell out of there it wasn’t even worth going. \n",
      "\n",
      "What I’m trying to convey is that The girls here are ugly and will try to pick money from your pocket or hands because she tried to pick  my hand but I wasn’t having any of this so I bounced . Pretty sad it’s very tough to find good girls. I had to find contentment with my own hands. I saved some good money and hope you will too, because this place isn’t worth it.\n",
      "te processed review is:  ['woman', 'look', 'day', '48', 'makeup', 'cake', 'like', 'someon', 'tri', 'repair', 'hole', 'sheet', 'rock', 'lead', 'room', 'see', 'anoth', 'woman', 'go', 'anoth', 'room', '’', 'littl', 'younger', 'yet', 'rel', 'old', '3/10', 'look', 'see', 'dude', 'car', 'pretti', 'seedi', 'must', 'air', 'thick', 'mask', 'lower', 'would', 'made', 'alreadi', 'unpleas', 'experi', 'seami', 'turn', 'light', 'ask', 'want', 'massag', 'walk', 'let', 'nut', 'cook', 'entireti', 'week', 'horney', 'coochi', 'wildin', 'almost', 'pick', 'big', 'booti', 'asain', 'street', 'walker', 'california', 'street', '’', 'rubber', 'store', '’', 'break', '100', 'must', 'sign', 'took', 'one', 'look', 'meta', 'commun', 'demand', 'person', '’', 'feel', 'anymor', 'look', 'dress', 'seen', 'one', 'piec', 'hang', 'dri', 'tax', 'place', 'got', 'superman', 'roach', 'fli', 'mind', 'went', 'shit', 'creek', 'walk', 'door', 'tri', 'hold', 'door', 'say', 'money', 'money', 'money', 'accent', 'heavi', 'rice', 'told', 'get', 'wallet', 'money', 'seen', 'fold', '20', 'hand', 'tri', 'take', 'fuck', 'shit', 'got', 'hell', '’', 'even', 'worth', 'go', '’', 'tri', 'convey', 'girl', 'ugli', 'tri', 'pick', 'money', 'pocket', 'hand', 'tri', 'pick', 'hand', '’', 'bounc', 'pretti', 'sad', '’', 'tough', 'find', 'good', 'girl', 'find', 'content', 'hand', 'save', 'good', 'money', 'hope', 'place', '’', 'worth']\n",
      "0\t0.59218268\tb'woman look day 48 makeup cake like someon tri repair hole sheet rock lead room see anoth woman go anoth room  littl younger yet rel old 3/10 look see dude car pretti seedi must air thick mask lower would made alreadi unpleas experi seami turn light ask want massag walk let nut cook entireti week horney coochi wildin almost pick big booti asain street walker california street  rubber store  break 100 must sign took one look meta commun demand person  feel anymor look dress seen one piec hang dri tax place got superman roach fli mind went shit creek walk door tri hold door say money money money accent heavi rice told get wallet money seen fold 20 hand tri take fuck shit got hell  even worth go  tri convey girl ugli tri pick money pocket hand tri pick hand  bounc pretti sad  tough find good girl find content hand save good money hope place  worth'\n",
      "the review is:  Lisa's a decent-looking gal. She doesn't excel in any departments, but I wouldn't mind fucking her if she was down. \n",
      "\n",
      "Standard entry procedure. She guides me to the room, takes the money, and leaves while I undress and get ready. She returns after maybe 5 or 6 minutes and gets going right away.\n",
      "\n",
      "The message is nothing that remarkable; the pressure is decent enough to work out some kinks, and her technique is quite similar to everybody else's, just simple up-and-down strokes. \n",
      "\n",
      "And that's it; that's all there is to be had. She didn't offer any services, pulled away when I tried to rub her and ignored my questions.\n",
      "te processed review is:  [\"lisa'\", 'decent-look', 'gal', 'excel', 'depart', 'mind', 'fuck', 'standard', 'entri', 'procedur', 'guid', 'room', 'take', 'money', 'leav', 'undress', 'get', 'readi', 'return', 'mayb', '5', '6', 'minut', 'get', 'go', 'right', 'away', 'messag', 'noth', 'remark', 'pressur', 'decent', 'enough', 'work', 'kink', 'techniqu', 'quit', 'similar', 'everybodi', \"else'\", 'simpl', 'up-and-down', 'stroke', \"that'\", \"that'\", 'offer', 'servic', 'pull', 'away', 'tri', 'rub', 'ignor', 'question']\n",
      "0\t0.50545183\tb\"lisa' decent-look gal excel depart mind fuck standard entri procedur guid room take money leav undress get readi return mayb 5 6 minut get go right away messag noth remark pressur decent enough work kink techniqu quit similar everybodi else' simpl up-and-down stroke that' that' offer servic pull away tri rub ignor question\"\n",
      "the review is:  Annie started in on some ass play. She positioned herself at the bottom of the table between my legs with her feet tucked under my upper thighs so she could lift my bottom up off the table. In this position, she massaged by upper legs, ass, groin, and reached under to stroke my balls and cock. (Note: I'm not generally a big fan of too much ass play, and I was definitely not interested in anything going up my ass, but I will say the massage around that whole area felt pretty damn good.) Flipped over. Annie focused in on a slow-building and pretty fantastic happy ending. She had a great technique that included some very light touching then covered FS til I popped. She got lazy while doing doggy so that kinda threw me off, i finished in Mish.\n",
      "te processed review is:  ['anni', 'start', 'ass', 'play', 'posit', 'bottom', 'tabl', 'leg', 'feet', 'tuck', 'upper', 'thigh', 'could', 'lift', 'bottom', 'tabl', 'posit', 'massag', 'upper', 'leg', 'ass', 'groin', 'reach', 'stroke', 'ball', 'cock', 'note', \"i'm\", 'gener', 'big', 'fan', 'much', 'ass', 'play', 'definit', 'interest', 'anyth', 'go', 'ass', 'say', 'massag', 'around', 'whole', 'area', 'felt', 'pretti', 'damn', 'good', 'flip', 'anni', 'focus', 'slow-build', 'pretti', 'fantast', 'happi', 'end', 'great', 'techniqu', 'includ', 'light', 'touch', 'cover', 'fs', 'til', 'pop', 'got', 'lazi', 'doggi', 'kinda', 'threw', 'finish', 'mish']\n",
      "0\t0.58368427\tb\"anni start ass play posit bottom tabl leg feet tuck upper thigh could lift bottom tabl posit massag upper leg ass groin reach stroke ball cock note i'm gener big fan much ass play definit interest anyth go ass say massag around whole area felt pretti damn good flip anni focus slow-build pretti fantast happi end great techniqu includ light touch cover fs til pop got lazi doggi kinda threw finish mish\"\n",
      "the review is:  Got an hour. Was in a hurry and just wanted to release my nut and knew this place never fails. Met Lily, she's a short Asian grannie, skinny with small tits and a bit of an ass. Very polite and sweet overall. Paid, was taken to a room where I undressed and got to another room. Once there, Lily gave me a nice table shower. Regular with some light teasing but that was it. Dried off and went back to the room. Masks stayed on the whole time. \n",
      "The massage was covered with a towel and was very thorough and deep. She must be a very experienced masseuse because the massage was top-notch. Felt therapeutic and effective for my achy shoulders and sore neck. Removed the oil, and flipped after the 40-minute mark. Negotiated, settled on CFS and I helped her with her clothes. Sucked on her nipples removing the face mask briefly and then, she slid on the condom and rode me in CG till completion. Quick clean up, got ready, and tipped. Left a happy man.\n",
      "te processed review is:  ['got', 'hour', 'hurri', 'want', 'releas', 'nut', 'knew', 'place', 'never', 'fail', 'met', 'lili', 'short', 'asian', 'granni', 'skinni', 'small', 'tit', 'bit', 'ass', 'polit', 'sweet', 'overal', 'paid', 'taken', 'room', 'undress', 'got', 'anoth', 'room', 'lili', 'gave', 'nice', 'tabl', 'shower', 'regular', 'light', 'teas', 'dri', 'went', 'back', 'room', 'mask', 'stay', 'whole', 'time', 'massag', 'cover', 'towel', 'thorough', 'deep', 'must', 'experienc', 'masseus', 'massag', 'top-notch', 'felt', 'therapeut', 'effect', 'achi', 'shoulder', 'sore', 'neck', 'remov', 'oil', 'flip', '40', 'minut', 'mark', 'negoti', 'settl', 'cf', 'help', 'cloth', 'suck', 'nippl', 'remov', 'face', 'mask', 'briefli', 'slid', 'condom', 'rode', 'cg', 'till', 'complet', 'quick', 'clean', 'got', 'readi', 'tip', 'left', 'happi', 'man']\n",
      "0\t0.56356275\tb'got hour hurri want releas nut knew place never fail met lili short asian granni skinni small tit bit ass polit sweet overal paid taken room undress got anoth room lili gave nice tabl shower regular light teas dri went back room mask stay whole time massag cover towel thorough deep must experienc masseus massag top-notch felt therapeut effect achi shoulder sore neck remov oil flip 40 minut mark negoti settl cf help cloth suck nippl remov face mask briefli slid condom rode cg till complet quick clean got readi tip left happi man'\n",
      "the review is:  Called beforehand and asked for Coco since I've had experienced great service from her the last time I went here. \n",
      "I showed up at the scheduled time and paid the fee, was led to a room where I undressed and she came in. \n",
      "She's a chubby gal but in a cute way. Thick thighs with big tits and just a little bit of tummy. Nice proportions on a soft body like hers. \n",
      "Asked what kind of pressure and I responded \"relaxing\". She started on my butt and went up and down my legs tickling the boys as she worked. \n",
      "She was wearing tight yoga pants so I roam my hand under her pants and pushed her panties aside and started to play. She said it was time to flip and so I did. \n",
      "Asked her to get naked with me and she did after agreeing on a tip. She went to work in the little guy and I went to work on her hairy and wet pussy. She got very wet and I was getting an amazing jack. I blew, she cleaned me up and I got dressed and left.\n",
      " Been back twice more, I like her a lot!\n",
      "te processed review is:  ['call', 'beforehand', 'ask', 'coco', 'sinc', \"i'v\", 'experienc', 'great', 'servic', 'last', 'time', 'went', 'show', 'schedul', 'time', 'paid', 'fee', 'led', 'room', 'undress', 'came', 'chubbi', 'gal', 'cute', 'way', 'thick', 'thigh', 'big', 'tit', 'littl', 'bit', 'tummi', 'nice', 'proport', 'soft', 'bodi', 'like', 'ask', 'kind', 'pressur', 'respond', 'relax', 'start', 'butt', 'went', 'leg', 'tickl', 'boy', 'work', 'wear', 'tight', 'yoga', 'pant', 'roam', 'hand', 'pant', 'push', 'panti', 'asid', 'start', 'play', 'said', 'time', 'flip', 'ask', 'get', 'nake', 'agre', 'tip', 'went', 'work', 'littl', 'guy', 'went', 'work', 'hairi', 'wet', 'pussi', 'got', 'wet', 'get', 'amaz', 'jack', 'blew', 'clean', 'got', 'dress', 'left', 'back', 'twice', 'like', 'lot']\n",
      "0\t0.68873076\tb\"call beforehand ask coco sinc i'v experienc great servic last time went show schedul time paid fee led room undress came chubbi gal cute way thick thigh big tit littl bit tummi nice proport soft bodi like ask kind pressur respond relax start butt went leg tickl boy work wear tight yoga pant roam hand pant push panti asid start play said time flip ask get nake agre tip went work littl guy went work hairi wet pussi got wet get amaz jack blew clean got dress left back twice like lot\"\n",
      "the review is:  Parked in the back and had to walk through the front door.  Mary greeted me and showed me my room.  Paid for the half hour.  Got undressed in front of her and layed face down.  She went right for my butt, good sign.  Didn't take long to flip over.  She wanted over $100 for top off, we agreed to 80.  I asked about more and she was like $500? and we both laughed.  Oiled me up and got me to finish.  Was able to feel her tits, but nothing else.  Rubbed her ass over her clothes.  I'm thinking Costa Mesa the girls are much more careful now since a lot of places have shut down.  Thought I could get more here but oh well.  Not going to pay a ton of $ like that.  I have other places I can go for that kind of fun.\n",
      "te processed review is:  ['park', 'back', 'walk', 'front', 'door', 'mari', 'greet', 'show', 'room', 'paid', 'half', 'hour', 'got', 'undress', 'front', 'lay', 'face', 'went', 'right', 'butt', 'good', 'sign', 'take', 'long', 'flip', 'want', 'top', 'agre', '80', 'ask', 'like', 'laugh', 'oil', 'got', 'finish', 'abl', 'feel', 'tit', 'noth', 'els', 'rub', 'ass', 'cloth', \"i'm\", 'think', 'costa', 'mesa', 'girl', 'much', 'care', 'sinc', 'lot', 'place', 'shut', 'thought', 'could', 'get', 'oh', 'well', 'go', 'pay', 'ton', 'like', 'place', 'go', 'kind', 'fun']\n",
      "0\t0.57193798\tb\"park back walk front door mari greet show room paid half hour got undress front lay face went right butt good sign take long flip want top agre 80 ask like laugh oil got finish abl feel tit noth els rub ass cloth i'm think costa mesa girl much care sinc lot place shut thought could get oh well go pay ton like place go kind fun\"\n",
      "the review is:  average massage but BEST most intense and skillful hand job ever.  incredible.  going back wish for FS next time.  she was super hot and fun.  great at dirty talk.  loved getting her pussy fingered, loved having her perfect tits kissed and nipples sucked.  Tits absolutely perfect and full D cups with great nipples.  pussy bald and clean and sweet smelling. Super friendly - acted like she was my gf.  I will go back in a heart beat.  she was so warm, friendly, hot, sexy, I aded an additional $40 to the $100 we agreed on.  awesome provider\n",
      "te processed review is:  ['averag', 'massag', 'best', 'intens', 'skill', 'hand', 'job', 'ever', 'incred', 'go', 'back', 'wish', 'fs', 'next', 'time', 'super', 'hot', 'fun', 'great', 'dirti', 'talk', 'love', 'get', 'pussi', 'finger', 'love', 'perfect', 'tit', 'kiss', 'nippl', 'suck', 'tit', 'absolut', 'perfect', 'full', 'cup', 'great', 'nippl', 'pussi', 'bald', 'clean', 'sweet', 'smell', 'super', 'friendli', 'act', 'like', 'gf', 'go', 'back', 'heart', 'beat', 'warm', 'friendli', 'hot', 'sexi', 'ade', 'addit', 'agre', 'awesom', 'provid']\n",
      "0\t0.60652171\tb'averag massag best intens skill hand job ever incred go back wish fs next time super hot fun great dirti talk love get pussi finger love perfect tit kiss nippl suck tit absolut perfect full cup great nippl pussi bald clean sweet smell super friendli act like gf go back heart beat warm friendli hot sexi ade addit agre awesom provid'\n"
     ]
    }
   ],
   "source": [
    "#error analysis\n",
    "print(\"pred review======\")\n",
    "for x, y in zip(test_x, test_y):\n",
    "    y_hat = predict(x, freqs, theta)\n",
    "    if np.abs(y-(y_hat > 0.5)) > 0:\n",
    "        if(y_hat > 0.5):\n",
    "            print(\"the review is: \" , x)\n",
    "            print(\"te processed review is: \", process_tweet(x))\n",
    "            print('%d\\t%0.8f\\t%s' % (y, y_hat, ' '.join(process_tweet(x)).encode('ascii', 'ignore')))"
   ]
  }
 ],
 "metadata": {
  "kernelspec": {
   "display_name": "Python 3 (ipykernel)",
   "language": "python",
   "name": "python3"
  },
  "language_info": {
   "codemirror_mode": {
    "name": "ipython",
    "version": 3
   },
   "file_extension": ".py",
   "mimetype": "text/x-python",
   "name": "python",
   "nbconvert_exporter": "python",
   "pygments_lexer": "ipython3",
   "version": "3.9.12"
  }
 },
 "nbformat": 4,
 "nbformat_minor": 5
}
